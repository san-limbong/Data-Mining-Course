{
 "cells": [
  {
   "cell_type": "markdown",
   "id": "c3fc67a6",
   "metadata": {},
   "source": [
    "Nama    : San Antonio Limbong\n",
    "\n",
    "NIM     : 12S19033"
   ]
  },
  {
   "cell_type": "markdown",
   "id": "57787695",
   "metadata": {},
   "source": [
    "## Latihan 5 | Feature Selection Importance"
   ]
  },
  {
   "cell_type": "code",
   "execution_count": 1,
   "id": "3b8ffa9a",
   "metadata": {},
   "outputs": [
    {
     "name": "stdout",
     "output_type": "stream",
     "text": [
      "1.0.2\n"
     ]
    }
   ],
   "source": [
    "#check scikit-learn version\n",
    "import sklearn\n",
    "print(sklearn.__version__)"
   ]
  },
  {
   "cell_type": "markdown",
   "id": "49177630",
   "metadata": {},
   "source": [
    "- Dataset Uji \n",
    "Seleksi dengan menentukan beberapa dataset pengujian yang dapat digunakan\n",
    "sebagai dasar untuk mendemonstrasikan dan menjelajahi skor feature importance\n",
    "- Dataset Klasifikasi\n",
    "Seleksi dengan pengklasifikasian menggunakan make_classification() function untuk membuat dataset uji."
   ]
  },
  {
   "cell_type": "code",
   "execution_count": 2,
   "id": "7a09b2b3",
   "metadata": {},
   "outputs": [
    {
     "name": "stdout",
     "output_type": "stream",
     "text": [
      "(1000, 10) (1000,)\n"
     ]
    }
   ],
   "source": [
    "#test classification dataset\n",
    "from sklearn.datasets import make_classification\n",
    "\n",
    "#define dataset\n",
    "X, y = make_classification(n_samples=1000, n_features=10, n_informative=5, n_redundant=5, random_state=1)\n",
    "\n",
    "#summarize the dataset\n",
    "print(X.shape, y.shape)"
   ]
  },
  {
   "cell_type": "code",
   "execution_count": 3,
   "id": "96fd496d",
   "metadata": {},
   "outputs": [
    {
     "name": "stdout",
     "output_type": "stream",
     "text": [
      "(1000, 10) (1000,)\n"
     ]
    }
   ],
   "source": [
    "#test regression dataset\n",
    "from sklearn.datasets import make_regression\n",
    "\n",
    "#define dataset\n",
    "X, y = make_regression(n_samples=1000, n_features=10, n_informative=5, random_state=1)\n",
    "\n",
    "#summarize the dataset\n",
    "print(X.shape, y.shape)"
   ]
  },
  {
   "cell_type": "markdown",
   "id": "ccb45318",
   "metadata": {},
   "source": [
    "- Koefisien sebagai Feature Importance\n",
    "Algoritma ML Linier cocok dengan model di mana prediksinya adalah jumlah bobot dari nilai input. Contohnya termasuk regresi linier, regresi logistik, dan ekstensi yang menambahkan regularisasi, seperti regresi punggungan dan jaring elastis. Semua algoritma ini menemukan satu set koefisien untuk digunakan dalam jumlah tertimbang untuk membuat prediksi. Koefisien ini dapat digunakan secara langsung sebagai tipe kasar dari skor kepentingan fitur\n",
    "\n",
    "- Feature Importance Regresi Linier\n",
    "Kita dapat memasukkan model LinearRegression pada dataset regresi dan mengambil coeff_property yang berisi koefisien yang ditemukan untuk setiap variabel input. Koefisien ini dapat memberikan dasar untuk skor kepentingan fitur kasar. Ini mengasumsikan bahwa variabel input memiliki skala yang sama atau telah diskalakan sebelum memasang model."
   ]
  },
  {
   "cell_type": "code",
   "execution_count": 4,
   "id": "574b6c44",
   "metadata": {},
   "outputs": [
    {
     "name": "stdout",
     "output_type": "stream",
     "text": [
      "Feature:: 0, Score: -0.00000\n",
      "Feature:: 1, Score: 12.44483\n",
      "Feature:: 2, Score: 0.00000\n",
      "Feature:: 3, Score: -0.00000\n",
      "Feature:: 4, Score: 93.32225\n",
      "Feature:: 5, Score: 86.50811\n",
      "Feature:: 6, Score: 26.74607\n",
      "Feature:: 7, Score: 3.28535\n",
      "Feature:: 8, Score: 0.00000\n",
      "Feature:: 9, Score: -0.00000\n"
     ]
    },
    {
     "data": {
      "image/png": "[encoded data removed]",
      "text/plain": [
       "<Figure size 432x288 with 1 Axes>"
      ]
     },
     "metadata": {
      "needs_background": "light"
     },
     "output_type": "display_data"
    }
   ],
   "source": [
    "#linear regression feature importance\n",
    "from sklearn.datasets import make_regression\n",
    "from sklearn.linear_model import LinearRegression\n",
    "from matplotlib import pyplot\n",
    "\n",
    "#define dataset\n",
    "X, y = make_regression(n_samples=1000,n_features=10, n_informative=5, random_state=1)\n",
    "\n",
    "#define the model\n",
    "model = LinearRegression()\n",
    "\n",
    "#fit the model\n",
    "model.fit(X, y)\n",
    "\n",
    "#get importance\n",
    "importance = model.coef_\n",
    "\n",
    "#summarize feature importance\n",
    "for i,v in enumerate(importance):\n",
    "    print('Feature:: %0d, Score: %.5f' % (i,v))\n",
    "\n",
    "#plot feature importance\n",
    "pyplot.bar([x for x in range(len(importance))], importance)\n",
    "pyplot.show()"
   ]
  }
 ],
 "metadata": {
  "kernelspec": {
   "display_name": "Python 3 (ipykernel)",
   "language": "python",
   "name": "python3"
  },
  "language_info": {
   "codemirror_mode": {
    "name": "ipython",
    "version": 3
   },
   "file_extension": ".py",
   "mimetype": "text/x-python",
   "name": "python",
   "nbconvert_exporter": "python",
   "pygments_lexer": "ipython3",
   "version": "3.9.12"
  }
 },
 "nbformat": 4,
 "nbformat_minor": 5
}
