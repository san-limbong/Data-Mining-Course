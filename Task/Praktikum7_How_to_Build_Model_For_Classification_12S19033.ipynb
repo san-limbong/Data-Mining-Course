{
 "cells": [
  {
   "cell_type": "markdown",
   "id": "9e4650ab",
   "metadata": {},
   "source": [
    "Nama    : San Antonio Limbong\n",
    "\n",
    "NIM     : 12S19033"
   ]
  },
  {
   "cell_type": "markdown",
   "id": "8a639f67",
   "metadata": {},
   "source": [
    "### Latihan 1 | Dataset"
   ]
  },
  {
   "cell_type": "code",
   "execution_count": 1,
   "id": "22bd4bb3",
   "metadata": {},
   "outputs": [],
   "source": [
    "from sklearn import datasets\n",
    "iris = datasets.load_iris()\n",
    "X = iris.data # we only take the first two features.\n",
    "y = iris.target"
   ]
  },
  {
   "cell_type": "code",
   "execution_count": 2,
   "id": "b0190642",
   "metadata": {},
   "outputs": [
    {
     "name": "stdout",
     "output_type": "stream",
     "text": [
      "Banyak data: 150\n"
     ]
    }
   ],
   "source": [
    "print(\"Banyak data:\" ,len(X))"
   ]
  },
  {
   "cell_type": "code",
   "execution_count": 3,
   "id": "d1815c46",
   "metadata": {},
   "outputs": [
    {
     "name": "stdout",
     "output_type": "stream",
     "text": [
      "10 data pertama: \n",
      "[[5.1 3.5 1.4 0.2]\n",
      " [4.9 3.  1.4 0.2]\n",
      " [4.7 3.2 1.3 0.2]\n",
      " [4.6 3.1 1.5 0.2]\n",
      " [5.  3.6 1.4 0.2]\n",
      " [5.4 3.9 1.7 0.4]\n",
      " [4.6 3.4 1.4 0.3]\n",
      " [5.  3.4 1.5 0.2]\n",
      " [4.4 2.9 1.4 0.2]\n",
      " [4.9 3.1 1.5 0.1]]\n"
     ]
    }
   ],
   "source": [
    "print(\"10 data pertama: \")\n",
    "print(X[:10])"
   ]
  },
  {
   "cell_type": "markdown",
   "id": "33493961",
   "metadata": {},
   "source": [
    "### Latihan 2 | Pembagian Data\n",
    "#### Latihan 2.1 | Train-Validation Split"
   ]
  },
  {
   "cell_type": "code",
   "execution_count": 4,
   "id": "c5acb84a",
   "metadata": {},
   "outputs": [],
   "source": [
    "from sklearn.model_selection import train_test_split\n",
    "X_train, X_test, y_train, y_test = train_test_split(X, y, train_size = 0.7) "
   ]
  },
  {
   "cell_type": "code",
   "execution_count": 5,
   "id": "5d346afc",
   "metadata": {},
   "outputs": [
    {
     "name": "stdout",
     "output_type": "stream",
     "text": [
      "Banyak data latih setelah dilakukan Train-Validation Split:  105\n",
      "Banyak data uji setelah dilakukan Train-Validation Split:  45\n"
     ]
    }
   ],
   "source": [
    "print(\"Banyak data latih setelah dilakukan Train-Validation Split: \", len(X_train))\n",
    "print(\"Banyak data uji setelah dilakukan Train-Validation Split: \", len(X_test))"
   ]
  },
  {
   "cell_type": "markdown",
   "id": "2110fd7c",
   "metadata": {},
   "source": [
    "#### Latihan 2.2 | K-Fold Cross Validation"
   ]
  },
  {
   "cell_type": "code",
   "execution_count": 6,
   "id": "54aaf69a",
   "metadata": {},
   "outputs": [
    {
     "name": "stdout",
     "output_type": "stream",
     "text": [
      "Akurasi model SVM untuk tiap model fold: [0.96666667 1.         0.96666667 0.96666667 1.        ]\n",
      "Akurasi model SVM dengan 5-Fold Cross Validation: 0.9800000000000001\n"
     ]
    }
   ],
   "source": [
    "from sklearn.model_selection import cross_val_score\n",
    "from sklearn.svm import SVC\n",
    "\n",
    "model = SVC(kernel = 'linear', C = 1)\n",
    "scores = cross_val_score(model, X, y, cv = 5)\n",
    "print(\"Akurasi model SVM untuk tiap model fold:\", scores)\n",
    "print(\"Akurasi model SVM dengan 5-Fold Cross Validation:\", scores.mean())"
   ]
  },
  {
   "cell_type": "markdown",
   "id": "ddf776bb",
   "metadata": {},
   "source": [
    "### Latihan 3 | Metode Klasifikasi\n",
    "#### Latihan 3.1 | Logistic Regression"
   ]
  },
  {
   "cell_type": "code",
   "execution_count": 7,
   "id": "c8d18e78",
   "metadata": {},
   "outputs": [
    {
     "name": "stdout",
     "output_type": "stream",
     "text": [
      "Akurasi dengan menggunakan Logistic Regression: 0.9777777777777777\n"
     ]
    },
    {
     "name": "stderr",
     "output_type": "stream",
     "text": [
      "C:\\Users\\ASUS\\anaconda3\\lib\\site-packages\\sklearn\\linear_model\\_logistic.py:814: ConvergenceWarning: lbfgs failed to converge (status=1):\n",
      "STOP: TOTAL NO. of ITERATIONS REACHED LIMIT.\n",
      "\n",
      "Increase the number of iterations (max_iter) or scale the data as shown in:\n",
      "    https://scikit-learn.org/stable/modules/preprocessing.html\n",
      "Please also refer to the documentation for alternative solver options:\n",
      "    https://scikit-learn.org/stable/modules/linear_model.html#logistic-regression\n",
      "  n_iter_i = _check_optimize_result(\n"
     ]
    }
   ],
   "source": [
    "from sklearn.linear_model import LogisticRegression\n",
    "from sklearn import metrics\n",
    "\n",
    "lr = LogisticRegression()\n",
    "\n",
    "lr.fit(X_train, y_train)\n",
    "y_pred = lr.predict(X_test)\n",
    "score = metrics.accuracy_score(y_test, y_pred)\n",
    "print(\"Akurasi dengan menggunakan Logistic Regression:\", score)"
   ]
  },
  {
   "cell_type": "markdown",
   "id": "3351fd7c",
   "metadata": {},
   "source": [
    "#### Latihan 3.2 | Support Vector Machine"
   ]
  },
  {
   "cell_type": "code",
   "execution_count": 8,
   "id": "c4ac54e5",
   "metadata": {},
   "outputs": [
    {
     "name": "stdout",
     "output_type": "stream",
     "text": [
      "Akurasi dengan menggunakan Support Vector Machine: 0.9111111111111111\n"
     ]
    }
   ],
   "source": [
    "from sklearn.svm import SVC\n",
    "from sklearn import metrics\n",
    "\n",
    "svm = SVC(\n",
    "  kernel = 'rbf',\n",
    "  C = 1,\n",
    "  gamma  = 0.01\n",
    ")\n",
    "\n",
    "svm.fit(X_train, y_train)\n",
    "y_pred = svm.predict(X_test)\n",
    "score = metrics.accuracy_score(y_test, y_pred)\n",
    "print(\"Akurasi dengan menggunakan Support Vector Machine:\", score)"
   ]
  },
  {
   "cell_type": "markdown",
   "id": "7deca69c",
   "metadata": {},
   "source": [
    "##### Hyperparameter SVM"
   ]
  },
  {
   "cell_type": "code",
   "execution_count": 9,
   "id": "01fed357",
   "metadata": {},
   "outputs": [
    {
     "name": "stdout",
     "output_type": "stream",
     "text": [
      "Akurasi dengan menggunakan Support Vector Machine Linear Kernel: 1.0\n"
     ]
    }
   ],
   "source": [
    "svmLinear = SVC(\n",
    "  kernel = 'linear',\n",
    "  C = 1\n",
    ")\n",
    "\n",
    "svmLinear.fit(X_train, y_train)\n",
    "y_pred = svmLinear.predict(X_test)\n",
    "score = metrics.accuracy_score(y_test, y_pred)\n",
    "print(\"Akurasi dengan menggunakan Support Vector Machine Linear Kernel:\", score)"
   ]
  },
  {
   "cell_type": "code",
   "execution_count": 10,
   "id": "2bde73ab",
   "metadata": {},
   "outputs": [
    {
     "name": "stdout",
     "output_type": "stream",
     "text": [
      "Akurasi dengan menggunakan Support Vector Machine Linear Kernel: 0.8888888888888888\n"
     ]
    }
   ],
   "source": [
    "svmPoly = SVC(\n",
    "  kernel = 'poly',\n",
    "  C = 1,\n",
    "  gamma  = 0.01,\n",
    "  degree = 2\n",
    ")\n",
    "\n",
    "svmPoly.fit(X_train, y_train)\n",
    "y_pred = svmPoly.predict(X_test)\n",
    "score = metrics.accuracy_score(y_test, y_pred)\n",
    "print(\"Akurasi dengan menggunakan Support Vector Machine Linear Kernel:\", score)"
   ]
  },
  {
   "cell_type": "code",
   "execution_count": 11,
   "id": "c0b3f2cb",
   "metadata": {},
   "outputs": [
    {
     "name": "stdout",
     "output_type": "stream",
     "text": [
      "Akurasi dengan menggunakan Support Vector Machine RBF Kernel: 0.8666666666666667\n"
     ]
    }
   ],
   "source": [
    "svmRBF = SVC(\n",
    "  kernel = 'poly',\n",
    "  C = 1,\n",
    "  gamma  = 0.01,\n",
    ")\n",
    "\n",
    "svmRBF.fit(X_train, y_train)\n",
    "y_pred = svmRBF.predict(X_test)\n",
    "score = metrics.accuracy_score(y_test, y_pred)\n",
    "print(\"Akurasi dengan menggunakan Support Vector Machine RBF Kernel:\", score)"
   ]
  },
  {
   "cell_type": "markdown",
   "id": "41cb7194",
   "metadata": {},
   "source": [
    "#### Latihan 3.3 | Decision Tree"
   ]
  },
  {
   "cell_type": "code",
   "execution_count": 12,
   "id": "55010c24",
   "metadata": {},
   "outputs": [
    {
     "name": "stdout",
     "output_type": "stream",
     "text": [
      "Akurasi dengan menggunakan Decision Tree: 0.9555555555555556\n"
     ]
    }
   ],
   "source": [
    "from sklearn.tree import DecisionTreeClassifier\n",
    "from sklearn import metrics\n",
    "\n",
    "dt = DecisionTreeClassifier(\n",
    "  max_depth = None,\n",
    "  min_samples_split = 2\n",
    ")\n",
    "\n",
    "dt.fit(X_train, y_train)\n",
    "y_pred = dt.predict(X_test)\n",
    "score = metrics.accuracy_score(y_test, y_pred)\n",
    "print(\"Akurasi dengan menggunakan Decision Tree:\", score)"
   ]
  },
  {
   "cell_type": "markdown",
   "id": "401791e9",
   "metadata": {},
   "source": [
    "##### Hyperparameter Decision Tree"
   ]
  },
  {
   "cell_type": "code",
   "execution_count": 13,
   "id": "de68dd96",
   "metadata": {},
   "outputs": [
    {
     "name": "stdout",
     "output_type": "stream",
     "text": [
      "Akurasi dengan menggunakan Decision Tree: 0.6222222222222222\n"
     ]
    }
   ],
   "source": [
    "dt = DecisionTreeClassifier(\n",
    "  max_depth = 1,\n",
    "  min_samples_split = 2\n",
    ")\n",
    "\n",
    "dt.fit(X_train, y_train)\n",
    "y_pred = dt.predict(X_test)\n",
    "score = metrics.accuracy_score(y_test, y_pred)\n",
    "print(\"Akurasi dengan menggunakan Decision Tree:\", score)"
   ]
  },
  {
   "cell_type": "markdown",
   "id": "444b7fe4",
   "metadata": {},
   "source": [
    "#### Latihan 3.4 | Naive Bayes"
   ]
  },
  {
   "cell_type": "code",
   "execution_count": 14,
   "id": "d234d985",
   "metadata": {},
   "outputs": [
    {
     "name": "stdout",
     "output_type": "stream",
     "text": [
      "Akurasi dengan menggunakan Naive Bayes: 0.26666666666666666\n"
     ]
    }
   ],
   "source": [
    "from sklearn import naive_bayes\n",
    "from sklearn import metrics\n",
    "\n",
    "nb = naive_bayes.BernoulliNB()\n",
    "\n",
    "nb.fit(X_train, y_train)\n",
    "y_pred = nb.predict(X_test)\n",
    "score = metrics.accuracy_score(y_test, y_pred)\n",
    "print(\"Akurasi dengan menggunakan Naive Bayes:\", score)"
   ]
  },
  {
   "cell_type": "markdown",
   "id": "8235d7a2",
   "metadata": {},
   "source": [
    "#### Latihan 3.5 | K-Nearest Neighbors"
   ]
  },
  {
   "cell_type": "code",
   "execution_count": 15,
   "id": "b3485b91",
   "metadata": {},
   "outputs": [
    {
     "name": "stdout",
     "output_type": "stream",
     "text": [
      "Akurasi dengan menggunakan Nearest Neighbors: 1.0\n"
     ]
    }
   ],
   "source": [
    "from sklearn.neighbors import KNeighborsClassifier\n",
    "from sklearn import metrics\n",
    "\n",
    "knn = KNeighborsClassifier()\n",
    "\n",
    "knn.fit(X_train, y_train)\n",
    "y_pred = knn.predict(X_test)\n",
    "score = metrics.accuracy_score(y_test, y_pred)\n",
    "print(\"Akurasi dengan menggunakan Nearest Neighbors:\", score)"
   ]
  },
  {
   "cell_type": "markdown",
   "id": "6ef5f449",
   "metadata": {},
   "source": [
    "### Tugas"
   ]
  },
  {
   "cell_type": "markdown",
   "id": "40536d50",
   "metadata": {},
   "source": [
    "##### Data Preparation"
   ]
  },
  {
   "cell_type": "code",
   "execution_count": 16,
   "id": "4e9e439d",
   "metadata": {},
   "outputs": [],
   "source": [
    "# import Library\n",
    "from sklearn.ensemble import AdaBoostClassifier\n",
    "from sklearn import datasets\n",
    "from sklearn.model_selection import train_test_split\n",
    "from sklearn import metrics"
   ]
  },
  {
   "cell_type": "markdown",
   "id": "3402f967",
   "metadata": {},
   "source": [
    "##### Load Data"
   ]
  },
  {
   "cell_type": "code",
   "execution_count": 17,
   "id": "eedb591a",
   "metadata": {},
   "outputs": [],
   "source": [
    "iris = datasets.load_iris()\n",
    "X = iris.data\n",
    "y = iris.target"
   ]
  },
  {
   "cell_type": "markdown",
   "id": "649ccbe9",
   "metadata": {},
   "source": [
    "##### Use 70% training and 30% test"
   ]
  },
  {
   "cell_type": "code",
   "execution_count": 18,
   "id": "401aa9f9",
   "metadata": {},
   "outputs": [],
   "source": [
    "X_train, X_test, y_train, y_test = train_test_split(X, y, test_size=0.3)"
   ]
  },
  {
   "cell_type": "code",
   "execution_count": 19,
   "id": "7b46b214",
   "metadata": {},
   "outputs": [
    {
     "name": "stdout",
     "output_type": "stream",
     "text": [
      "Banyak data latih setelah dilakukan Train-Validation Split:  105\n",
      "Banyak data uji setelah dilakukan Train-Validation Split:  45\n"
     ]
    }
   ],
   "source": [
    "print(\"Banyak data latih setelah dilakukan Train-Validation Split: \", len(X_train))\n",
    "print(\"Banyak data uji setelah dilakukan Train-Validation Split: \", len(X_test))"
   ]
  },
  {
   "cell_type": "markdown",
   "id": "22f1538c",
   "metadata": {},
   "source": [
    "##### Metode klasifikasi dengan parameter tuning - decision tree (terbaik)"
   ]
  },
  {
   "cell_type": "code",
   "execution_count": 20,
   "id": "2ac055fb",
   "metadata": {},
   "outputs": [
    {
     "name": "stdout",
     "output_type": "stream",
     "text": [
      "Akurasi dengan menggunakan Decision Tree:  0.9333333333333333\n"
     ]
    }
   ],
   "source": [
    "dt = DecisionTreeClassifier(\n",
    "    max_depth = 2,\n",
    "    min_samples_split = 3\n",
    ")\n",
    "\n",
    "dt.fit(X_train, y_train)\n",
    "y_pred = dt.predict(X_test)\n",
    "score = metrics.accuracy_score(y_test, y_pred)\n",
    "print(\"Akurasi dengan menggunakan Decision Tree: \", score)"
   ]
  },
  {
   "cell_type": "markdown",
   "id": "c3b18a7d",
   "metadata": {},
   "source": [
    "AdaBoost algorithm merupakan pengklasifikasi penguat ansambel yaitu dengan menggabungkan beberapa pengklasifikasi untuk meningkatkan akurasi pengklasifikasi. Adapun Konsep dasar di balik Adaboost adalah mengatur bobot pengklasifikasi dan sampel data pelatihan di setiap iterasi"
   ]
  },
  {
   "cell_type": "code",
   "execution_count": 21,
   "id": "b8c1f76d",
   "metadata": {},
   "outputs": [
    {
     "name": "stdout",
     "output_type": "stream",
     "text": [
      "Berikut adalah akurasi pada penggunaan Adaboost Clasifier: 0.9333333333333333\n"
     ]
    }
   ],
   "source": [
    "ada = AdaBoostClassifier(n_estimators=50,learning_rate=1)\n",
    "Model = ada.fit(X_train, y_train)\n",
    "y_pred = Model.predict(X_test)\n",
    "print(\"Berikut adalah akurasi pada penggunaan Adaboost Clasifier:\",metrics.accuracy_score(y_test, y_pred))"
   ]
  }
 ],
 "metadata": {
  "kernelspec": {
   "display_name": "Python 3 (ipykernel)",
   "language": "python",
   "name": "python3"
  },
  "language_info": {
   "codemirror_mode": {
    "name": "ipython",
    "version": 3
   },
   "file_extension": ".py",
   "mimetype": "text/x-python",
   "name": "python",
   "nbconvert_exporter": "python",
   "pygments_lexer": "ipython3",
   "version": "3.9.12"
  }
 },
 "nbformat": 4,
 "nbformat_minor": 5
}
