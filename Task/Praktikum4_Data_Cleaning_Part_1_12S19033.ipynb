{
 "cells": [
  {
   "cell_type": "markdown",
   "id": "16d3046f",
   "metadata": {},
   "source": [
    "Nama  : San Antonio Limbong\n",
    "\n",
    "NIM   : 12S19033"
   ]
  },
  {
   "cell_type": "markdown",
   "id": "0af7d2da",
   "metadata": {},
   "source": [
    "## Latihan 1 | Data Cleaning – Part I\n",
    "\n",
    "### Latihan 1.1 | Handling Missing Data"
   ]
  },
  {
   "cell_type": "markdown",
   "id": "8e18d2fa",
   "metadata": {},
   "source": [
    "#### Latihan 1.1.1 | Recode/Replace"
   ]
  },
  {
   "cell_type": "markdown",
   "id": "9c783160",
   "metadata": {},
   "source": [
    "Fungsi fillna pada pandas berguna untuk mengkode ulang nilai yang hilang ke nilai lain"
   ]
  },
  {
   "cell_type": "code",
   "execution_count": 1,
   "id": "07e98495",
   "metadata": {},
   "outputs": [
    {
     "name": "stdout",
     "output_type": "stream",
     "text": [
      "         Date  Day  Cases_Guinea  Cases_Liberia  Cases_SierraLeone\n",
      "0    1/5/2015  289        2776.0            0.0            10030.0\n",
      "1    1/4/2015  288        2775.0            0.0             9780.0\n",
      "2    1/3/2015  287        2769.0         8166.0             9722.0\n",
      "3    1/2/2015  286           0.0         8157.0                0.0\n",
      "4  12/31/2014  284        2730.0         8115.0             9633.0\n",
      "5  12/28/2014  281        2706.0         8018.0             9446.0\n",
      "6  12/27/2014  280        2695.0            0.0             9409.0\n",
      "7  12/24/2014  277        2630.0         7977.0             9203.0\n",
      "8  12/21/2014  273        2597.0            0.0             9004.0\n",
      "9  12/20/2014  272        2571.0         7862.0             8939.0\n"
     ]
    }
   ],
   "source": [
    "import pandas as pd\n",
    "ebola = pd.read_csv('C:/Users/ASUS/a semester 7/DAMI/New folder/data/data/country_timeseries.csv')\n",
    "print(ebola.fillna(0).iloc[0:10, 0:5])"
   ]
  },
  {
   "cell_type": "markdown",
   "id": "38b886bf",
   "metadata": {},
   "source": [
    "#### Latihan 1.1.2 | Fill Forward"
   ]
  },
  {
   "cell_type": "markdown",
   "id": "925f9dd8",
   "metadata": {},
   "source": [
    "Fungsi fillna diikuti dengan methode ffill digunakan untuk mengisi maju suatu sel, sehingga nilai terakhir yang diketahui digunakan untuk mengganti nilai yang hilang berikutnya.Dengan cara ini, nilai yang hilang diganti dengan nilai yang diketahui / dicatat\n",
    "terakhir"
   ]
  },
  {
   "cell_type": "code",
   "execution_count": 2,
   "id": "3622f5ff",
   "metadata": {},
   "outputs": [
    {
     "name": "stdout",
     "output_type": "stream",
     "text": [
      "         Date  Day  Cases_Guinea  Cases_Liberia  Cases_SierraLeone\n",
      "0    1/5/2015  289        2776.0            NaN            10030.0\n",
      "1    1/4/2015  288        2775.0            NaN             9780.0\n",
      "2    1/3/2015  287        2769.0         8166.0             9722.0\n",
      "3    1/2/2015  286        2769.0         8157.0             9722.0\n",
      "4  12/31/2014  284        2730.0         8115.0             9633.0\n",
      "5  12/28/2014  281        2706.0         8018.0             9446.0\n",
      "6  12/27/2014  280        2695.0         8018.0             9409.0\n",
      "7  12/24/2014  277        2630.0         7977.0             9203.0\n",
      "8  12/21/2014  273        2597.0         7977.0             9004.0\n",
      "9  12/20/2014  272        2571.0         7862.0             8939.0\n"
     ]
    }
   ],
   "source": [
    "print(ebola.fillna(method='ffill').iloc[0:10, 0:5])"
   ]
  },
  {
   "cell_type": "markdown",
   "id": "4943fd71",
   "metadata": {},
   "source": [
    "#### Latihan 1.1.3 | Fill Backward"
   ]
  },
  {
   "cell_type": "markdown",
   "id": "5c6cce6e",
   "metadata": {},
   "source": [
    "Fungsi fillna diikuti dengan methode bfill digunakan untuk mengisi mundur suatu sel, sehingga nilai terakhir yang diketahui digunakan untuk mengganti nilai yang hilang sebelumnya.Dengan cara ini, nilai yang hilang diganti dengan nilai terbaru"
   ]
  },
  {
   "cell_type": "code",
   "execution_count": 3,
   "id": "38e38a22",
   "metadata": {},
   "outputs": [
    {
     "name": "stdout",
     "output_type": "stream",
     "text": [
      "          Date  Day  Cases_Guinea  Cases_Liberia  Cases_SierraLeone\n",
      "117  3/27/2014    5         103.0            8.0                6.0\n",
      "118  3/26/2014    4          86.0            NaN                NaN\n",
      "119  3/25/2014    3          86.0            NaN                NaN\n",
      "120  3/24/2014    2          86.0            NaN                NaN\n",
      "121  3/22/2014    0          49.0            NaN                NaN\n"
     ]
    }
   ],
   "source": [
    "print(ebola.fillna(method='bfill').iloc[:,0:5].tail())"
   ]
  },
  {
   "cell_type": "markdown",
   "id": "da4d75ad",
   "metadata": {},
   "source": [
    "#### Latihan 1.1.4 | Interpolate "
   ]
  },
  {
   "cell_type": "markdown",
   "id": "482ded4d",
   "metadata": {},
   "source": [
    "Fungsi interpolate berguna mengisi nilai yang hilang secara linear"
   ]
  },
  {
   "cell_type": "code",
   "execution_count": 4,
   "id": "6fed0652",
   "metadata": {},
   "outputs": [
    {
     "name": "stdout",
     "output_type": "stream",
     "text": [
      "         Date  Day  Cases_Guinea  Cases_Liberia  Cases_SierraLeone\n",
      "0    1/5/2015  289        2776.0            NaN            10030.0\n",
      "1    1/4/2015  288        2775.0            NaN             9780.0\n",
      "2    1/3/2015  287        2769.0         8166.0             9722.0\n",
      "3    1/2/2015  286        2749.5         8157.0             9677.5\n",
      "4  12/31/2014  284        2730.0         8115.0             9633.0\n",
      "5  12/28/2014  281        2706.0         8018.0             9446.0\n",
      "6  12/27/2014  280        2695.0         7997.5             9409.0\n",
      "7  12/24/2014  277        2630.0         7977.0             9203.0\n",
      "8  12/21/2014  273        2597.0         7919.5             9004.0\n",
      "9  12/20/2014  272        2571.0         7862.0             8939.0\n"
     ]
    }
   ],
   "source": [
    "print(ebola.interpolate().iloc[0:10,0:5])"
   ]
  },
  {
   "cell_type": "markdown",
   "id": "18ceaea5",
   "metadata": {},
   "source": [
    "#### Latihan 1.1.5 | Drop Missing Values "
   ]
  },
  {
   "cell_type": "markdown",
   "id": "848ddfe6",
   "metadata": {},
   "source": [
    "Metode dropna untuk menghilangkan data yang hilang dan menentukan parameter fungsi yang mengontrol bagaimana data akan dihilangkan."
   ]
  },
  {
   "cell_type": "code",
   "execution_count": 5,
   "id": "8859e81e",
   "metadata": {},
   "outputs": [
    {
     "name": "stdout",
     "output_type": "stream",
     "text": [
      "(122, 18)\n"
     ]
    }
   ],
   "source": [
    "print(ebola.shape)"
   ]
  },
  {
   "cell_type": "code",
   "execution_count": 6,
   "id": "960b1166",
   "metadata": {},
   "outputs": [
    {
     "name": "stdout",
     "output_type": "stream",
     "text": [
      "(1, 18)\n"
     ]
    }
   ],
   "source": [
    "ebola_dropna = ebola.dropna()\n",
    "print(ebola_dropna.shape)"
   ]
  },
  {
   "cell_type": "code",
   "execution_count": 7,
   "id": "b947763b",
   "metadata": {},
   "outputs": [
    {
     "name": "stdout",
     "output_type": "stream",
     "text": [
      "          Date  Day  Cases_Guinea  Cases_Liberia  Cases_SierraLeone  \\\n",
      "19  11/18/2014  241        2047.0         7082.0             6190.0   \n",
      "\n",
      "    Cases_Nigeria  Cases_Senegal  Cases_UnitedStates  Cases_Spain  Cases_Mali  \\\n",
      "19           20.0            1.0                 4.0          1.0         6.0   \n",
      "\n",
      "    Deaths_Guinea  Deaths_Liberia  Deaths_SierraLeone  Deaths_Nigeria  \\\n",
      "19         1214.0          2963.0              1267.0             8.0   \n",
      "\n",
      "    Deaths_Senegal  Deaths_UnitedStates  Deaths_Spain  Deaths_Mali  \n",
      "19             0.0                  1.0           0.0          6.0  \n"
     ]
    }
   ],
   "source": [
    "print(ebola_dropna)"
   ]
  },
  {
   "cell_type": "markdown",
   "id": "c274f42d",
   "metadata": {},
   "source": [
    "### Latihan 1.2 | Handling Noisy Data"
   ]
  },
  {
   "cell_type": "code",
   "execution_count": 8,
   "id": "1e940159",
   "metadata": {},
   "outputs": [],
   "source": [
    "import numpy as np\n",
    "import math\n",
    "\n",
    "a = [4, 8, 9, 15, 21, 21, 24, 25, 26, 28, 29, 34] #array\n",
    "sa = np.sort(a) # sorted array"
   ]
  },
  {
   "cell_type": "code",
   "execution_count": 9,
   "id": "7e6cd680",
   "metadata": {},
   "outputs": [],
   "source": [
    "# create bins\n",
    "bin_mean = np.zeros((3,4))\n",
    "bin_boundaries = np.zeros((3,4))\n",
    "bin_median = np.zeros((3,4))"
   ]
  },
  {
   "cell_type": "markdown",
   "id": "64759cae",
   "metadata": {},
   "source": [
    "Smoothing by bin mean\n",
    "\n",
    "Berfungsi untuk mengatasi nilai yang kosong dengan nilai rata-rata pada bin tersebut"
   ]
  },
  {
   "cell_type": "code",
   "execution_count": 10,
   "id": "5d41b338",
   "metadata": {},
   "outputs": [
    {
     "name": "stdout",
     "output_type": "stream",
     "text": [
      "Bin Mean: \n",
      " [[ 9.    9.    9.    9.  ]\n",
      " [22.75 22.75 22.75 22.75]\n",
      " [29.25 29.25 29.25 29.25]]\n"
     ]
    }
   ],
   "source": [
    "# Bin mean\n",
    "for i in range (0,12,4):\n",
    "    k = int(i/4)\n",
    "    mean = (sa[i] + sa[i+1] + sa[i+2] + sa[i+3])/4\n",
    "    for j in range(4):\n",
    "        bin_mean[k,j] = mean\n",
    "print(\"Bin Mean: \\n\", bin_mean)"
   ]
  },
  {
   "cell_type": "markdown",
   "id": "6bf98696",
   "metadata": {},
   "source": [
    "Smoothing by bin boundaries\n",
    "\n",
    "Berfungsi untuk mengatasi nilai yang kosong dengan nilai terendah/tertinggi terdekat"
   ]
  },
  {
   "cell_type": "code",
   "execution_count": 11,
   "id": "21ff4934",
   "metadata": {},
   "outputs": [
    {
     "name": "stdout",
     "output_type": "stream",
     "text": [
      "Bin Boundaries: \n",
      " [[ 4.  4.  4. 15.]\n",
      " [21. 21. 25. 25.]\n",
      " [26. 26. 26. 34.]]\n"
     ]
    }
   ],
   "source": [
    "# Bin boundaries\n",
    "for i in range (0,12,4):\n",
    "    k = int(i/4)\n",
    "    for j in range(4):\n",
    "        if (sa[i+j]-sa[i]) < (sa[i+3]-sa[i+j]):\n",
    "            bin_boundaries[k,j] = sa[i]\n",
    "        else:\n",
    "            bin_boundaries[k,j] = sa[i+3]\n",
    "print(\"Bin Boundaries: \\n\", bin_boundaries)"
   ]
  },
  {
   "cell_type": "markdown",
   "id": "c866d388",
   "metadata": {},
   "source": [
    "Smoothing by bin median\n",
    "\n",
    "Berfungsi untuk mengatasi nilai yang kosong dengan nilai tengah pada bin tersebut"
   ]
  },
  {
   "cell_type": "code",
   "execution_count": 12,
   "id": "344290de",
   "metadata": {},
   "outputs": [
    {
     "name": "stdout",
     "output_type": "stream",
     "text": [
      "Bin Median: \n",
      " [[ 9.  9.  9.  9.]\n",
      " [24. 24. 24. 24.]\n",
      " [29. 29. 29. 29.]]\n"
     ]
    }
   ],
   "source": [
    "# Bin median\n",
    "for i in range (0,12,4):\n",
    "    k = int(i/4)\n",
    "    for j in range(4):\n",
    "        bin_median[k,j] = sa[i+2]\n",
    "print(\"Bin Median: \\n\", bin_median)"
   ]
  }
 ],
 "metadata": {
  "kernelspec": {
   "display_name": "Python 3 (ipykernel)",
   "language": "python",
   "name": "python3"
  },
  "language_info": {
   "codemirror_mode": {
    "name": "ipython",
    "version": 3
   },
   "file_extension": ".py",
   "mimetype": "text/x-python",
   "name": "python",
   "nbconvert_exporter": "python",
   "pygments_lexer": "ipython3",
   "version": "3.9.12"
  }
 },
 "nbformat": 4,
 "nbformat_minor": 5
}
