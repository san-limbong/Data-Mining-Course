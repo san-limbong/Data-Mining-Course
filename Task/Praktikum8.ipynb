{
  "nbformat": 4,
  "nbformat_minor": 0,
  "metadata": {
    "colab": {
      "provenance": []
    },
    "kernelspec": {
      "name": "python3",
      "display_name": "Python 3"
    },
    "language_info": {
      "name": "python"
    }
  },
  "cells": [
    {
      "cell_type": "markdown",
      "metadata": {
        "id": "38465517"
      },
      "source": [
        "# A"
      ]
    },
    {
      "cell_type": "markdown",
      "metadata": {
        "id": "2e461075"
      },
      "source": [
        "### a. Exploratory Data Analysis"
      ]
    },
    {
      "cell_type": "code",
      "execution_count": null,
      "metadata": {
        "id": "92da1d4e",
        "outputId": "4365e47c-24a6-49e6-af03-000d750831f9"
      },
      "outputs": [
        {
          "data": {
            "text/html": [
              "<div>\n",
              "<style scoped>\n",
              "    .dataframe tbody tr th:only-of-type {\n",
              "        vertical-align: middle;\n",
              "    }\n",
              "\n",
              "    .dataframe tbody tr th {\n",
              "        vertical-align: top;\n",
              "    }\n",
              "\n",
              "    .dataframe thead th {\n",
              "        text-align: right;\n",
              "    }\n",
              "</style>\n",
              "<table border=\"1\" class=\"dataframe\">\n",
              "  <thead>\n",
              "    <tr style=\"text-align: right;\">\n",
              "      <th></th>\n",
              "      <th>visit_id</th>\n",
              "      <th>kdkc</th>\n",
              "      <th>dati2</th>\n",
              "      <th>typeppk</th>\n",
              "      <th>jkpst</th>\n",
              "      <th>umur</th>\n",
              "      <th>jnspelsep</th>\n",
              "      <th>los</th>\n",
              "      <th>cmg</th>\n",
              "      <th>severitylevel</th>\n",
              "      <th>diagprimer</th>\n",
              "      <th>label</th>\n",
              "    </tr>\n",
              "  </thead>\n",
              "  <tbody>\n",
              "    <tr>\n",
              "      <th>0</th>\n",
              "      <td>146797</td>\n",
              "      <td>1601</td>\n",
              "      <td>302</td>\n",
              "      <td>SC</td>\n",
              "      <td>P</td>\n",
              "      <td>41</td>\n",
              "      <td>2</td>\n",
              "      <td>0</td>\n",
              "      <td>Q</td>\n",
              "      <td>0</td>\n",
              "      <td>r00_r99</td>\n",
              "      <td>0</td>\n",
              "    </tr>\n",
              "    <tr>\n",
              "      <th>1</th>\n",
              "      <td>140617</td>\n",
              "      <td>2302</td>\n",
              "      <td>238</td>\n",
              "      <td>C</td>\n",
              "      <td>P</td>\n",
              "      <td>32</td>\n",
              "      <td>1</td>\n",
              "      <td>3</td>\n",
              "      <td>O</td>\n",
              "      <td>1</td>\n",
              "      <td>o00_o99</td>\n",
              "      <td>0</td>\n",
              "    </tr>\n",
              "    <tr>\n",
              "      <th>2</th>\n",
              "      <td>132452</td>\n",
              "      <td>1403</td>\n",
              "      <td>271</td>\n",
              "      <td>C</td>\n",
              "      <td>L</td>\n",
              "      <td>58</td>\n",
              "      <td>1</td>\n",
              "      <td>4</td>\n",
              "      <td>L</td>\n",
              "      <td>1</td>\n",
              "      <td>l00_l99</td>\n",
              "      <td>0</td>\n",
              "    </tr>\n",
              "    <tr>\n",
              "      <th>3</th>\n",
              "      <td>145696</td>\n",
              "      <td>2605</td>\n",
              "      <td>369</td>\n",
              "      <td>C</td>\n",
              "      <td>L</td>\n",
              "      <td>0</td>\n",
              "      <td>1</td>\n",
              "      <td>2</td>\n",
              "      <td>P</td>\n",
              "      <td>1</td>\n",
              "      <td>p00_p96</td>\n",
              "      <td>0</td>\n",
              "    </tr>\n",
              "    <tr>\n",
              "      <th>4</th>\n",
              "      <td>184924</td>\n",
              "      <td>206</td>\n",
              "      <td>32</td>\n",
              "      <td>SB</td>\n",
              "      <td>L</td>\n",
              "      <td>15</td>\n",
              "      <td>2</td>\n",
              "      <td>0</td>\n",
              "      <td>Q</td>\n",
              "      <td>0</td>\n",
              "      <td>r00_r99</td>\n",
              "      <td>0</td>\n",
              "    </tr>\n",
              "    <tr>\n",
              "      <th>5</th>\n",
              "      <td>179905</td>\n",
              "      <td>401</td>\n",
              "      <td>69</td>\n",
              "      <td>SC</td>\n",
              "      <td>L</td>\n",
              "      <td>4</td>\n",
              "      <td>2</td>\n",
              "      <td>0</td>\n",
              "      <td>Q</td>\n",
              "      <td>0</td>\n",
              "      <td>s00_t98</td>\n",
              "      <td>0</td>\n",
              "    </tr>\n",
              "    <tr>\n",
              "      <th>6</th>\n",
              "      <td>191619</td>\n",
              "      <td>1111</td>\n",
              "      <td>158</td>\n",
              "      <td>SC</td>\n",
              "      <td>L</td>\n",
              "      <td>62</td>\n",
              "      <td>2</td>\n",
              "      <td>0</td>\n",
              "      <td>M</td>\n",
              "      <td>0</td>\n",
              "      <td>m00_m99</td>\n",
              "      <td>0</td>\n",
              "    </tr>\n",
              "    <tr>\n",
              "      <th>7</th>\n",
              "      <td>128821</td>\n",
              "      <td>1006</td>\n",
              "      <td>130</td>\n",
              "      <td>SB</td>\n",
              "      <td>P</td>\n",
              "      <td>64</td>\n",
              "      <td>2</td>\n",
              "      <td>0</td>\n",
              "      <td>Q</td>\n",
              "      <td>0</td>\n",
              "      <td>j00_j99</td>\n",
              "      <td>0</td>\n",
              "    </tr>\n",
              "    <tr>\n",
              "      <th>8</th>\n",
              "      <td>179034</td>\n",
              "      <td>1307</td>\n",
              "      <td>196</td>\n",
              "      <td>KM</td>\n",
              "      <td>P</td>\n",
              "      <td>69</td>\n",
              "      <td>2</td>\n",
              "      <td>0</td>\n",
              "      <td>Q</td>\n",
              "      <td>0</td>\n",
              "      <td>z00_z99</td>\n",
              "      <td>0</td>\n",
              "    </tr>\n",
              "    <tr>\n",
              "      <th>9</th>\n",
              "      <td>112613</td>\n",
              "      <td>1301</td>\n",
              "      <td>217</td>\n",
              "      <td>KM</td>\n",
              "      <td>P</td>\n",
              "      <td>59</td>\n",
              "      <td>2</td>\n",
              "      <td>0</td>\n",
              "      <td>H</td>\n",
              "      <td>0</td>\n",
              "      <td>h00_h59</td>\n",
              "      <td>0</td>\n",
              "    </tr>\n",
              "  </tbody>\n",
              "</table>\n",
              "</div>"
            ],
            "text/plain": [
              "   visit_id  kdkc  dati2 typeppk jkpst  umur  jnspelsep  los cmg  \\\n",
              "0    146797  1601    302      SC     P    41          2    0   Q   \n",
              "1    140617  2302    238      C      P    32          1    3   O   \n",
              "2    132452  1403    271      C      L    58          1    4   L   \n",
              "3    145696  2605    369      C      L     0          1    2   P   \n",
              "4    184924   206     32      SB     L    15          2    0   Q   \n",
              "5    179905   401     69      SC     L     4          2    0   Q   \n",
              "6    191619  1111    158      SC     L    62          2    0   M   \n",
              "7    128821  1006    130      SB     P    64          2    0   Q   \n",
              "8    179034  1307    196      KM     P    69          2    0   Q   \n",
              "9    112613  1301    217      KM     P    59          2    0   H   \n",
              "\n",
              "   severitylevel diagprimer  label  \n",
              "0              0    r00_r99      0  \n",
              "1              1    o00_o99      0  \n",
              "2              1    l00_l99      0  \n",
              "3              1    p00_p96      0  \n",
              "4              0    r00_r99      0  \n",
              "5              0    s00_t98      0  \n",
              "6              0    m00_m99      0  \n",
              "7              0    j00_j99      0  \n",
              "8              0    z00_z99      0  \n",
              "9              0    h00_h59      0  "
            ]
          },
          "execution_count": 1,
          "metadata": {},
          "output_type": "execute_result"
        }
      ],
      "source": [
        "# i. Tampilkanlah 10 data pertama\n",
        "\n",
        "import pandas as pd\n",
        "klaimlayananrs = pd.read_csv('bpjs_data_sample_uts.csv')\n",
        "klaimlayananrs.head(10)"
      ]
    },
    {
      "cell_type": "code",
      "execution_count": null,
      "metadata": {
        "id": "d2259907",
        "outputId": "cd204480-b479-4a4e-dec0-63b79e0936e7"
      },
      "outputs": [
        {
          "data": {
            "text/html": [
              "<div>\n",
              "<style scoped>\n",
              "    .dataframe tbody tr th:only-of-type {\n",
              "        vertical-align: middle;\n",
              "    }\n",
              "\n",
              "    .dataframe tbody tr th {\n",
              "        vertical-align: top;\n",
              "    }\n",
              "\n",
              "    .dataframe thead th {\n",
              "        text-align: right;\n",
              "    }\n",
              "</style>\n",
              "<table border=\"1\" class=\"dataframe\">\n",
              "  <thead>\n",
              "    <tr style=\"text-align: right;\">\n",
              "      <th></th>\n",
              "      <th>los</th>\n",
              "      <th>umur</th>\n",
              "    </tr>\n",
              "  </thead>\n",
              "  <tbody>\n",
              "    <tr>\n",
              "      <th>count</th>\n",
              "      <td>20000.000000</td>\n",
              "      <td>20000.000000</td>\n",
              "    </tr>\n",
              "    <tr>\n",
              "      <th>mean</th>\n",
              "      <td>1.290950</td>\n",
              "      <td>36.753700</td>\n",
              "    </tr>\n",
              "    <tr>\n",
              "      <th>std</th>\n",
              "      <td>5.713986</td>\n",
              "      <td>23.092401</td>\n",
              "    </tr>\n",
              "    <tr>\n",
              "      <th>min</th>\n",
              "      <td>0.000000</td>\n",
              "      <td>0.000000</td>\n",
              "    </tr>\n",
              "    <tr>\n",
              "      <th>25%</th>\n",
              "      <td>0.000000</td>\n",
              "      <td>17.000000</td>\n",
              "    </tr>\n",
              "    <tr>\n",
              "      <th>50%</th>\n",
              "      <td>0.000000</td>\n",
              "      <td>39.000000</td>\n",
              "    </tr>\n",
              "    <tr>\n",
              "      <th>75%</th>\n",
              "      <td>2.000000</td>\n",
              "      <td>56.000000</td>\n",
              "    </tr>\n",
              "    <tr>\n",
              "      <th>max</th>\n",
              "      <td>555.000000</td>\n",
              "      <td>104.000000</td>\n",
              "    </tr>\n",
              "  </tbody>\n",
              "</table>\n",
              "</div>"
            ],
            "text/plain": [
              "                los          umur\n",
              "count  20000.000000  20000.000000\n",
              "mean       1.290950     36.753700\n",
              "std        5.713986     23.092401\n",
              "min        0.000000      0.000000\n",
              "25%        0.000000     17.000000\n",
              "50%        0.000000     39.000000\n",
              "75%        2.000000     56.000000\n",
              "max      555.000000    104.000000"
            ]
          },
          "execution_count": 2,
          "metadata": {},
          "output_type": "execute_result"
        }
      ],
      "source": [
        "# ii. Tampilkan rangkuman data set yang meliputi count, mean, standard deviation, minimum value, \n",
        "# quantile 1 (25%), quantile 2 (50%), quantile 3 (75%), dan maximum value hanya untuk atribut \n",
        "# los (length of stay) dan umur.\n",
        "\n",
        "umurlos = ['los', 'umur']\n",
        "df = klaimlayananrs[umurlos]\n",
        "df.describe()"
      ]
    },
    {
      "cell_type": "code",
      "execution_count": null,
      "metadata": {
        "id": "28b1265e",
        "outputId": "93032065-1d9f-484a-bfc2-0bf9f9e6a56f"
      },
      "outputs": [
        {
          "data": {
            "image/png": "[encoded data removed]",
            "text/plain": [
              "<Figure size 504x360 with 2 Axes>"
            ]
          },
          "metadata": {
            "needs_background": "light"
          },
          "output_type": "display_data"
        }
      ],
      "source": [
        "# iii. Tampilkanlan correlation heatmap untuk atribut kdkc, dati2, typeppk, umur,\n",
        "# jnspelsep, los (length of stay), severitylevel, dan label.\n",
        "\n",
        "import matplotlib.pyplot as plt\n",
        "import seaborn as sns\n",
        "\n",
        "atributrelate = ['kdkc', 'dati2', 'typeppk', 'umur', 'jnspelsep', 'los', 'severitylevel', 'label']\n",
        "korelasi = klaimlayananrs[atributrelate].corr()\n",
        "\n",
        "fig, ax = plt.subplots(figsize=(7,5))\n",
        "sns.heatmap(korelasi, ax = ax);"
      ]
    },
    {
      "cell_type": "code",
      "execution_count": null,
      "metadata": {
        "id": "05d02781",
        "outputId": "82160e2e-e43b-4466-e868-e533536b37b2"
      },
      "outputs": [
        {
          "data": {
            "image/png": "[encoded data removed]",
            "text/plain": [
              "<Figure size 432x288 with 9 Axes>"
            ]
          },
          "metadata": {
            "needs_background": "light"
          },
          "output_type": "display_data"
        }
      ],
      "source": [
        "# iv. Tampilkan histogram untuk semua atribut\n",
        "\n",
        "klaimlayananrs.hist(edgecolor='black', bins=5);"
      ]
    },
    {
      "cell_type": "markdown",
      "metadata": {
        "id": "8f59ee6f"
      },
      "source": [
        "### b. Data Preprocessing"
      ]
    },
    {
      "cell_type": "code",
      "execution_count": null,
      "metadata": {
        "id": "59d6517b",
        "outputId": "f353c504-ad09-40f4-96fa-d84ec53e7454"
      },
      "outputs": [
        {
          "data": {
            "text/plain": [
              "visit_id         0\n",
              "kdkc             0\n",
              "dati2            0\n",
              "typeppk          0\n",
              "jkpst            0\n",
              "umur             0\n",
              "jnspelsep        0\n",
              "los              0\n",
              "cmg              0\n",
              "severitylevel    0\n",
              "diagprimer       0\n",
              "label            0\n",
              "dtype: int64"
            ]
          },
          "execution_count": 5,
          "metadata": {},
          "output_type": "execute_result"
        }
      ],
      "source": [
        "#i. Lakukanla imputasi data dengan nilai modus  jika terdapat nilai null \n",
        "klaimlayananrs.isnull().sum()"
      ]
    },
    {
      "cell_type": "code",
      "execution_count": null,
      "metadata": {
        "id": "77d0e518"
      },
      "outputs": [],
      "source": [
        "#ii. transformasi data untuk semua data kategorikal sehingga semua fitur memiliki nilai numerik dengan menggunakan one-hot encoding.\n",
        "klaimlayananrs.drop(['visit_id'], axis=1, inplace=True)"
      ]
    },
    {
      "cell_type": "code",
      "execution_count": null,
      "metadata": {
        "id": "9c565d5d"
      },
      "outputs": [],
      "source": [
        "klaimlayananrs['jkpst'].replace(to_replace=['L', 'P'], value =[0, 1], inplace=True)"
      ]
    },
    {
      "cell_type": "code",
      "execution_count": null,
      "metadata": {
        "id": "8893c1b8"
      },
      "outputs": [],
      "source": [
        "import numpy as np\n",
        "# bpjs_data with numeric data type\n",
        "data_num = klaimlayananrs.select_dtypes(include=[np.number])\n",
        "\n",
        "# bpjs_data with category data type\n",
        "data_cat = klaimlayananrs.select_dtypes(exclude=[np.number])\n",
        "\n",
        "# Get dummies (data transformation)\n",
        "transform_cat = pd.get_dummies(data_cat, prefix_sep='_', drop_first=True)"
      ]
    },
    {
      "cell_type": "code",
      "execution_count": null,
      "metadata": {
        "scrolled": true,
        "id": "dc1c193d"
      },
      "outputs": [],
      "source": [
        "from numpy.core.defchararray import add\n",
        "data_cat = transform_cat.assign(new=add('', np.arange(1, len(data_cat) + 1).astype(str)))\n",
        "data_num = data_num.assign(new=add('', np.arange(1, len(data_num) + 1).astype(str)))\n",
        "bpjs_data_final = pd.concat([data_cat, data_num], axis=1)\n",
        "bpjs_data_final.drop(['new'], axis=1, inplace=True)"
      ]
    },
    {
      "cell_type": "code",
      "execution_count": null,
      "metadata": {
        "scrolled": true,
        "id": "c6c9d4d3",
        "outputId": "855efb98-6f96-4f31-c42f-8d01639faacd"
      },
      "outputs": [
        {
          "data": {
            "text/html": [
              "<div>\n",
              "<style scoped>\n",
              "    .dataframe tbody tr th:only-of-type {\n",
              "        vertical-align: middle;\n",
              "    }\n",
              "\n",
              "    .dataframe tbody tr th {\n",
              "        vertical-align: top;\n",
              "    }\n",
              "\n",
              "    .dataframe thead th {\n",
              "        text-align: right;\n",
              "    }\n",
              "</style>\n",
              "<table border=\"1\" class=\"dataframe\">\n",
              "  <thead>\n",
              "    <tr style=\"text-align: right;\">\n",
              "      <th></th>\n",
              "      <th>typeppk_B</th>\n",
              "      <th>typeppk_C</th>\n",
              "      <th>typeppk_D</th>\n",
              "      <th>typeppk_GD</th>\n",
              "      <th>typeppk_HD</th>\n",
              "      <th>typeppk_I1</th>\n",
              "      <th>typeppk_I2</th>\n",
              "      <th>typeppk_I3</th>\n",
              "      <th>typeppk_I4</th>\n",
              "      <th>typeppk_KB</th>\n",
              "      <th>...</th>\n",
              "      <th>diagprimer_u00_u85</th>\n",
              "      <th>diagprimer_z00_z99</th>\n",
              "      <th>kdkc</th>\n",
              "      <th>dati2</th>\n",
              "      <th>jkpst</th>\n",
              "      <th>umur</th>\n",
              "      <th>jnspelsep</th>\n",
              "      <th>los</th>\n",
              "      <th>severitylevel</th>\n",
              "      <th>label</th>\n",
              "    </tr>\n",
              "  </thead>\n",
              "  <tbody>\n",
              "    <tr>\n",
              "      <th>0</th>\n",
              "      <td>0</td>\n",
              "      <td>0</td>\n",
              "      <td>0</td>\n",
              "      <td>0</td>\n",
              "      <td>0</td>\n",
              "      <td>0</td>\n",
              "      <td>0</td>\n",
              "      <td>0</td>\n",
              "      <td>0</td>\n",
              "      <td>0</td>\n",
              "      <td>...</td>\n",
              "      <td>0</td>\n",
              "      <td>0</td>\n",
              "      <td>1601</td>\n",
              "      <td>302</td>\n",
              "      <td>1</td>\n",
              "      <td>41</td>\n",
              "      <td>2</td>\n",
              "      <td>0</td>\n",
              "      <td>0</td>\n",
              "      <td>0</td>\n",
              "    </tr>\n",
              "    <tr>\n",
              "      <th>1</th>\n",
              "      <td>0</td>\n",
              "      <td>1</td>\n",
              "      <td>0</td>\n",
              "      <td>0</td>\n",
              "      <td>0</td>\n",
              "      <td>0</td>\n",
              "      <td>0</td>\n",
              "      <td>0</td>\n",
              "      <td>0</td>\n",
              "      <td>0</td>\n",
              "      <td>...</td>\n",
              "      <td>0</td>\n",
              "      <td>0</td>\n",
              "      <td>2302</td>\n",
              "      <td>238</td>\n",
              "      <td>1</td>\n",
              "      <td>32</td>\n",
              "      <td>1</td>\n",
              "      <td>3</td>\n",
              "      <td>1</td>\n",
              "      <td>0</td>\n",
              "    </tr>\n",
              "    <tr>\n",
              "      <th>2</th>\n",
              "      <td>0</td>\n",
              "      <td>1</td>\n",
              "      <td>0</td>\n",
              "      <td>0</td>\n",
              "      <td>0</td>\n",
              "      <td>0</td>\n",
              "      <td>0</td>\n",
              "      <td>0</td>\n",
              "      <td>0</td>\n",
              "      <td>0</td>\n",
              "      <td>...</td>\n",
              "      <td>0</td>\n",
              "      <td>0</td>\n",
              "      <td>1403</td>\n",
              "      <td>271</td>\n",
              "      <td>0</td>\n",
              "      <td>58</td>\n",
              "      <td>1</td>\n",
              "      <td>4</td>\n",
              "      <td>1</td>\n",
              "      <td>0</td>\n",
              "    </tr>\n",
              "    <tr>\n",
              "      <th>3</th>\n",
              "      <td>0</td>\n",
              "      <td>1</td>\n",
              "      <td>0</td>\n",
              "      <td>0</td>\n",
              "      <td>0</td>\n",
              "      <td>0</td>\n",
              "      <td>0</td>\n",
              "      <td>0</td>\n",
              "      <td>0</td>\n",
              "      <td>0</td>\n",
              "      <td>...</td>\n",
              "      <td>0</td>\n",
              "      <td>0</td>\n",
              "      <td>2605</td>\n",
              "      <td>369</td>\n",
              "      <td>0</td>\n",
              "      <td>0</td>\n",
              "      <td>1</td>\n",
              "      <td>2</td>\n",
              "      <td>1</td>\n",
              "      <td>0</td>\n",
              "    </tr>\n",
              "    <tr>\n",
              "      <th>4</th>\n",
              "      <td>0</td>\n",
              "      <td>0</td>\n",
              "      <td>0</td>\n",
              "      <td>0</td>\n",
              "      <td>0</td>\n",
              "      <td>0</td>\n",
              "      <td>0</td>\n",
              "      <td>0</td>\n",
              "      <td>0</td>\n",
              "      <td>0</td>\n",
              "      <td>...</td>\n",
              "      <td>0</td>\n",
              "      <td>0</td>\n",
              "      <td>206</td>\n",
              "      <td>32</td>\n",
              "      <td>0</td>\n",
              "      <td>15</td>\n",
              "      <td>2</td>\n",
              "      <td>0</td>\n",
              "      <td>0</td>\n",
              "      <td>0</td>\n",
              "    </tr>\n",
              "    <tr>\n",
              "      <th>...</th>\n",
              "      <td>...</td>\n",
              "      <td>...</td>\n",
              "      <td>...</td>\n",
              "      <td>...</td>\n",
              "      <td>...</td>\n",
              "      <td>...</td>\n",
              "      <td>...</td>\n",
              "      <td>...</td>\n",
              "      <td>...</td>\n",
              "      <td>...</td>\n",
              "      <td>...</td>\n",
              "      <td>...</td>\n",
              "      <td>...</td>\n",
              "      <td>...</td>\n",
              "      <td>...</td>\n",
              "      <td>...</td>\n",
              "      <td>...</td>\n",
              "      <td>...</td>\n",
              "      <td>...</td>\n",
              "      <td>...</td>\n",
              "      <td>...</td>\n",
              "    </tr>\n",
              "    <tr>\n",
              "      <th>19995</th>\n",
              "      <td>0</td>\n",
              "      <td>0</td>\n",
              "      <td>0</td>\n",
              "      <td>1</td>\n",
              "      <td>0</td>\n",
              "      <td>0</td>\n",
              "      <td>0</td>\n",
              "      <td>0</td>\n",
              "      <td>0</td>\n",
              "      <td>0</td>\n",
              "      <td>...</td>\n",
              "      <td>0</td>\n",
              "      <td>0</td>\n",
              "      <td>1006</td>\n",
              "      <td>131</td>\n",
              "      <td>1</td>\n",
              "      <td>1</td>\n",
              "      <td>1</td>\n",
              "      <td>3</td>\n",
              "      <td>1</td>\n",
              "      <td>1</td>\n",
              "    </tr>\n",
              "    <tr>\n",
              "      <th>19996</th>\n",
              "      <td>0</td>\n",
              "      <td>0</td>\n",
              "      <td>0</td>\n",
              "      <td>0</td>\n",
              "      <td>0</td>\n",
              "      <td>0</td>\n",
              "      <td>0</td>\n",
              "      <td>0</td>\n",
              "      <td>0</td>\n",
              "      <td>0</td>\n",
              "      <td>...</td>\n",
              "      <td>0</td>\n",
              "      <td>0</td>\n",
              "      <td>1808</td>\n",
              "      <td>237</td>\n",
              "      <td>0</td>\n",
              "      <td>82</td>\n",
              "      <td>2</td>\n",
              "      <td>0</td>\n",
              "      <td>0</td>\n",
              "      <td>1</td>\n",
              "    </tr>\n",
              "    <tr>\n",
              "      <th>19997</th>\n",
              "      <td>0</td>\n",
              "      <td>0</td>\n",
              "      <td>0</td>\n",
              "      <td>0</td>\n",
              "      <td>0</td>\n",
              "      <td>0</td>\n",
              "      <td>0</td>\n",
              "      <td>0</td>\n",
              "      <td>0</td>\n",
              "      <td>0</td>\n",
              "      <td>...</td>\n",
              "      <td>0</td>\n",
              "      <td>0</td>\n",
              "      <td>1601</td>\n",
              "      <td>302</td>\n",
              "      <td>0</td>\n",
              "      <td>4</td>\n",
              "      <td>2</td>\n",
              "      <td>0</td>\n",
              "      <td>0</td>\n",
              "      <td>1</td>\n",
              "    </tr>\n",
              "    <tr>\n",
              "      <th>19998</th>\n",
              "      <td>1</td>\n",
              "      <td>0</td>\n",
              "      <td>0</td>\n",
              "      <td>0</td>\n",
              "      <td>0</td>\n",
              "      <td>0</td>\n",
              "      <td>0</td>\n",
              "      <td>0</td>\n",
              "      <td>0</td>\n",
              "      <td>0</td>\n",
              "      <td>...</td>\n",
              "      <td>0</td>\n",
              "      <td>0</td>\n",
              "      <td>1016</td>\n",
              "      <td>117</td>\n",
              "      <td>0</td>\n",
              "      <td>0</td>\n",
              "      <td>2</td>\n",
              "      <td>0</td>\n",
              "      <td>0</td>\n",
              "      <td>1</td>\n",
              "    </tr>\n",
              "    <tr>\n",
              "      <th>19999</th>\n",
              "      <td>0</td>\n",
              "      <td>1</td>\n",
              "      <td>0</td>\n",
              "      <td>0</td>\n",
              "      <td>0</td>\n",
              "      <td>0</td>\n",
              "      <td>0</td>\n",
              "      <td>0</td>\n",
              "      <td>0</td>\n",
              "      <td>0</td>\n",
              "      <td>...</td>\n",
              "      <td>0</td>\n",
              "      <td>0</td>\n",
              "      <td>1311</td>\n",
              "      <td>192</td>\n",
              "      <td>0</td>\n",
              "      <td>7</td>\n",
              "      <td>2</td>\n",
              "      <td>0</td>\n",
              "      <td>0</td>\n",
              "      <td>1</td>\n",
              "    </tr>\n",
              "  </tbody>\n",
              "</table>\n",
              "<p>20000 rows × 73 columns</p>\n",
              "</div>"
            ],
            "text/plain": [
              "       typeppk_B   typeppk_C   typeppk_D   typeppk_GD  typeppk_HD  typeppk_I1  \\\n",
              "0               0           0           0           0           0           0   \n",
              "1               0           1           0           0           0           0   \n",
              "2               0           1           0           0           0           0   \n",
              "3               0           1           0           0           0           0   \n",
              "4               0           0           0           0           0           0   \n",
              "...           ...         ...         ...         ...         ...         ...   \n",
              "19995           0           0           0           1           0           0   \n",
              "19996           0           0           0           0           0           0   \n",
              "19997           0           0           0           0           0           0   \n",
              "19998           1           0           0           0           0           0   \n",
              "19999           0           1           0           0           0           0   \n",
              "\n",
              "       typeppk_I2  typeppk_I3  typeppk_I4  typeppk_KB  ...  \\\n",
              "0               0           0           0           0  ...   \n",
              "1               0           0           0           0  ...   \n",
              "2               0           0           0           0  ...   \n",
              "3               0           0           0           0  ...   \n",
              "4               0           0           0           0  ...   \n",
              "...           ...         ...         ...         ...  ...   \n",
              "19995           0           0           0           0  ...   \n",
              "19996           0           0           0           0  ...   \n",
              "19997           0           0           0           0  ...   \n",
              "19998           0           0           0           0  ...   \n",
              "19999           0           0           0           0  ...   \n",
              "\n",
              "       diagprimer_u00_u85  diagprimer_z00_z99  kdkc  dati2  jkpst  umur  \\\n",
              "0                       0                   0  1601    302      1    41   \n",
              "1                       0                   0  2302    238      1    32   \n",
              "2                       0                   0  1403    271      0    58   \n",
              "3                       0                   0  2605    369      0     0   \n",
              "4                       0                   0   206     32      0    15   \n",
              "...                   ...                 ...   ...    ...    ...   ...   \n",
              "19995                   0                   0  1006    131      1     1   \n",
              "19996                   0                   0  1808    237      0    82   \n",
              "19997                   0                   0  1601    302      0     4   \n",
              "19998                   0                   0  1016    117      0     0   \n",
              "19999                   0                   0  1311    192      0     7   \n",
              "\n",
              "       jnspelsep  los  severitylevel  label  \n",
              "0              2    0              0      0  \n",
              "1              1    3              1      0  \n",
              "2              1    4              1      0  \n",
              "3              1    2              1      0  \n",
              "4              2    0              0      0  \n",
              "...          ...  ...            ...    ...  \n",
              "19995          1    3              1      1  \n",
              "19996          2    0              0      1  \n",
              "19997          2    0              0      1  \n",
              "19998          2    0              0      1  \n",
              "19999          2    0              0      1  \n",
              "\n",
              "[20000 rows x 73 columns]"
            ]
          },
          "execution_count": 10,
          "metadata": {},
          "output_type": "execute_result"
        }
      ],
      "source": [
        "bpjs_data_final"
      ]
    },
    {
      "cell_type": "markdown",
      "metadata": {
        "id": "c3b298ba"
      },
      "source": [
        "### c. Data Mining"
      ]
    },
    {
      "cell_type": "code",
      "execution_count": null,
      "metadata": {
        "id": "db8fed97"
      },
      "outputs": [],
      "source": [
        "#i.Lakukanla pembagian data: training data (80%) dan testing data (20%).\n",
        "from sklearn.model_selection import train_test_split\n",
        "\n",
        "X = bpjs_data_final.iloc[:,:-1].values\n",
        "y = bpjs_data_final.iloc[:, -1].values\n",
        "\n",
        "X_train, X_test, y_train, y_test = train_test_split(X, y, test_size = 0.20, random_state = 0)"
      ]
    },
    {
      "cell_type": "code",
      "execution_count": null,
      "metadata": {
        "scrolled": true,
        "id": "8683c4e8",
        "outputId": "240016ca-0f33-44bd-c120-e10d4c5082cc"
      },
      "outputs": [
        {
          "name": "stdout",
          "output_type": "stream",
          "text": [
            "fold: 1\n",
            "Train accuracy: 0.7213333333333334\n",
            "Train Precision: 0.7173806006893156\n",
            "Train Recall: 0.7293509093942934\n",
            "Test accuracy: 0.56775\n",
            "Test Precision: 0.5662122687439143\n",
            "Test Recall: 0.5812093953023488\n",
            "fold: 2\n",
            "Train accuracy: 0.71875\n",
            "Train Precision: 0.7129327237099935\n",
            "Train Recall: 0.729734247033261\n",
            "Test accuracy: 0.5535\n",
            "Test Precision: 0.555610479485912\n",
            "Test Recall: 0.5589259075087022\n",
            "fold: 3\n",
            "Train accuracy: 0.721\n",
            "Train Precision: 0.7204156889037882\n",
            "Train Recall: 0.7189695550351288\n",
            "Test accuracy: 0.56725\n",
            "Test Precision: 0.5714285714285714\n",
            "Test Recall: 0.5654761904761905\n",
            "fold: 4\n",
            "Train accuracy: 0.7209166666666667\n",
            "Train Precision: 0.7177694683791254\n",
            "Train Recall: 0.732415394824154\n",
            "Test accuracy: 0.5605\n",
            "Test Precision: 0.549476688867745\n",
            "Test Recall: 0.5874872838250255\n"
          ]
        }
      ],
      "source": [
        "#Pada proses training anda harus menggunakan 5-fold Cross-Validation.\n",
        "#ii.Terapkanla klasifikasi dengan menggunakan KNN (k-nearest neighbors) dengan nilai K = 4\n",
        "# Create KNN classifier\n",
        "from sklearn.model_selection import KFold \n",
        "from sklearn.neighbors import KNeighborsClassifier\n",
        "from sklearn import metrics\n",
        "from sklearn.metrics import accuracy_score\n",
        "k = 4\n",
        "i = 0\n",
        "kf = KFold(n_splits=k, random_state=None)\n",
        "# Create KNN classifier\n",
        "knn = KNeighborsClassifier(n_neighbors = 5)\n",
        "\n",
        "for train_index, test_index in kf.split(X_train, y_train):\n",
        "    i = i + 1\n",
        "    X_train_fold, X_test_fold= X_train[train_index], X_train[test_index]\n",
        "    y_train_fold, y_test_fold= y_train[train_index], y_train[test_index]\n",
        "    print('fold: ' +  str(i))\n",
        "    \n",
        "    knn.fit(X_train_fold, y_train_fold)\n",
        "    y_train_pred = knn.predict(X_train_fold)\n",
        "    y_pred = knn.predict(X_test_fold)\n",
        "    \n",
        "    train_acc = accuracy_score(y_train_fold, y_train_pred)\n",
        "    train_prec = metrics.precision_score(y_train_fold, y_train_pred)\n",
        "    train_rec = metrics.recall_score(y_train_fold, y_train_pred)\n",
        "    \n",
        "    test_acc = accuracy_score(y_test_fold, y_pred)\n",
        "    test_prec = metrics.precision_score(y_test_fold, y_pred)\n",
        "    test_rec = metrics.recall_score(y_test_fold, y_pred)\n",
        "    \n",
        "    print('Train accuracy:', train_acc)\n",
        "    print(\"Train Precision:\",train_prec)\n",
        "    print(\"Train Recall:\",train_rec)\n",
        "    print('Test accuracy:', test_acc)\n",
        "    print(\"Test Precision:\",test_prec)\n",
        "    print(\"Test Recall:\",test_rec)"
      ]
    },
    {
      "cell_type": "code",
      "execution_count": null,
      "metadata": {
        "id": "42790a6e",
        "outputId": "a807f0ef-8cb5-470b-cc20-fcfe9904e60e"
      },
      "outputs": [
        {
          "name": "stdout",
          "output_type": "stream",
          "text": [
            "Test accuracy: 0.5675\n",
            "Test Precision: 0.563302752293578\n",
            "Test Recall: 0.6121635094715853\n"
          ]
        }
      ],
      "source": [
        "# iii. Berapakah nilai accuracy, precision, dan recall yang anda peroleh\n",
        "y_pred = knn.predict(X_test)\n",
        "test_acc = metrics.accuracy_score(y_test, y_pred.round())\n",
        "test_prec = metrics.precision_score(y_test, y_pred.round())\n",
        "test_rec = metrics.recall_score(y_test, y_pred.round())\n",
        "\n",
        "print('Test accuracy:', test_acc)\n",
        "print(\"Test Precision:\",test_prec)\n",
        "print(\"Test Recall:\",test_rec)"
      ]
    },
    {
      "cell_type": "markdown",
      "metadata": {
        "id": "LIHJKrJ752lN"
      },
      "source": [
        "# B"
      ]
    },
    {
      "cell_type": "markdown",
      "metadata": {
        "id": "f13a865b"
      },
      "source": [
        "### a. Data Preprocessing"
      ]
    },
    {
      "cell_type": "code",
      "execution_count": null,
      "metadata": {
        "id": "52c945fb"
      },
      "outputs": [],
      "source": [
        "import pandas as pd\n",
        "klaimlayananrs = pd.read_csv('bpjs_data_sample_uts.csv')"
      ]
    },
    {
      "cell_type": "code",
      "execution_count": null,
      "metadata": {
        "id": "054e470b"
      },
      "outputs": [],
      "source": [
        "import numpy as np\n",
        "# bpjs_data with numeric data type\n",
        "data_num = klaimlayananrs.select_dtypes(include=[np.number])\n",
        "\n",
        "# bpjs_data with category data type\n",
        "data_cat = klaimlayananrs.select_dtypes(exclude=[np.number])\n",
        "\n",
        "# Get dummies (data transformation)\n",
        "transform_cat = pd.get_dummies(data_cat, prefix_sep='_', drop_first=True)"
      ]
    },
    {
      "cell_type": "code",
      "execution_count": null,
      "metadata": {
        "id": "a8d388e8"
      },
      "outputs": [],
      "source": [
        "from numpy.core.defchararray import add\n",
        "data_cat = transform_cat.assign(new=add('', np.arange(1, len(data_cat) + 1).astype(str)))\n",
        "data_num = data_num.assign(new=add('', np.arange(1, len(data_num) + 1).astype(str)))\n",
        "bpjs_data_final = pd.concat([data_cat, data_num], axis=1)\n",
        "bpjs_data_final.drop(['new'], axis=1, inplace=True)"
      ]
    },
    {
      "cell_type": "code",
      "execution_count": null,
      "metadata": {
        "id": "cf7f8b12"
      },
      "outputs": [],
      "source": [
        "# split features (X) and label (y)\n",
        "X = bpjs_data_final.iloc[:,:-1].values\n",
        "y = bpjs_data_final.iloc[:, -1].values"
      ]
    },
    {
      "cell_type": "code",
      "execution_count": null,
      "metadata": {
        "id": "760f4fbe",
        "outputId": "8f9953e7-311d-44bb-cb7d-dbf3c5eede4c"
      },
      "outputs": [
        {
          "data": {
            "text/plain": [
              "array([0, 0, 0, ..., 1, 1, 1], dtype=int64)"
            ]
          },
          "execution_count": 5,
          "metadata": {},
          "output_type": "execute_result"
        }
      ],
      "source": [
        "y"
      ]
    },
    {
      "cell_type": "code",
      "execution_count": null,
      "metadata": {
        "id": "f568aff0",
        "outputId": "654df218-7a73-4a9e-cf26-12de0ae37015"
      },
      "outputs": [
        {
          "data": {
            "text/plain": [
              "array([[0, 0, 0, ..., 2, 0, 0],\n",
              "       [0, 1, 0, ..., 1, 3, 1],\n",
              "       [0, 1, 0, ..., 1, 4, 1],\n",
              "       ...,\n",
              "       [0, 0, 0, ..., 2, 0, 0],\n",
              "       [1, 0, 0, ..., 2, 0, 0],\n",
              "       [0, 1, 0, ..., 2, 0, 0]], dtype=int64)"
            ]
          },
          "execution_count": 6,
          "metadata": {},
          "output_type": "execute_result"
        }
      ],
      "source": [
        "X"
      ]
    },
    {
      "cell_type": "code",
      "execution_count": null,
      "metadata": {
        "id": "2805694f"
      },
      "outputs": [],
      "source": [
        "# i. Lakukan perubahan skala pada setiap fitur dengan menggunakan normalisasi sehingga setiap nilai berada pada skala di antara 0-1.\n",
        "from sklearn.preprocessing import MinMaxScaler\n",
        "X = MinMaxScaler(feature_range=(0, 1)).fit_transform(X)"
      ]
    },
    {
      "cell_type": "code",
      "execution_count": null,
      "metadata": {
        "id": "03e1473a",
        "outputId": "fcc27fd9-d628-417f-f4c7-2c04c32f9783"
      },
      "outputs": [
        {
          "data": {
            "text/plain": [
              "array([[0.        , 0.        , 0.        , ..., 1.        , 0.        ,\n",
              "        0.        ],\n",
              "       [0.        , 1.        , 0.        , ..., 0.        , 0.00540541,\n",
              "        0.33333333],\n",
              "       [0.        , 1.        , 0.        , ..., 0.        , 0.00720721,\n",
              "        0.33333333],\n",
              "       ...,\n",
              "       [0.        , 0.        , 0.        , ..., 1.        , 0.        ,\n",
              "        0.        ],\n",
              "       [1.        , 0.        , 0.        , ..., 1.        , 0.        ,\n",
              "        0.        ],\n",
              "       [0.        , 1.        , 0.        , ..., 1.        , 0.        ,\n",
              "        0.        ]])"
            ]
          },
          "execution_count": 8,
          "metadata": {},
          "output_type": "execute_result"
        }
      ],
      "source": [
        "X"
      ]
    },
    {
      "cell_type": "code",
      "execution_count": null,
      "metadata": {
        "id": "087917d0"
      },
      "outputs": [],
      "source": [
        "# ii. Pilihla 5 fitur terbaik dari fitur yang ada dengan menggunakan library feature selection pada sklearn\n",
        "from sklearn.feature_selection import SelectKBest, chi2, f_regression\n",
        "X_new=SelectKBest(score_func=chi2,k=5).fit_transform(X,y)"
      ]
    },
    {
      "cell_type": "code",
      "execution_count": null,
      "metadata": {
        "id": "f9c43ee9",
        "outputId": "eaf8c39f-d329-49c2-c751-042063903400"
      },
      "outputs": [
        {
          "data": {
            "text/plain": [
              "array([[0.        , 1.        , 0.        , 0.        , 0.73322011],\n",
              "       [0.        , 0.        , 0.        , 0.        , 0.70235021],\n",
              "       [0.        , 0.        , 0.        , 0.        , 0.66156497],\n",
              "       ...,\n",
              "       [0.        , 1.        , 0.        , 0.        , 0.42409651],\n",
              "       [0.        , 0.        , 0.        , 0.        , 0.04063538],\n",
              "       [0.        , 0.        , 0.        , 0.        , 0.08355354]])"
            ]
          },
          "execution_count": 10,
          "metadata": {},
          "output_type": "execute_result"
        }
      ],
      "source": [
        "X_new"
      ]
    },
    {
      "cell_type": "markdown",
      "metadata": {
        "id": "dc9465fc"
      },
      "source": [
        "### b. Building Model (Classifier)"
      ]
    },
    {
      "cell_type": "code",
      "execution_count": null,
      "metadata": {
        "id": "3d0cc7ee"
      },
      "outputs": [],
      "source": [
        "# a. Lakukanla pembagian data dengan menggunakan 5-fold Cross-Validation.\n",
        "\n",
        "from sklearn.model_selection import train_test_split\n",
        "X_train, X_test, y_train, y_test = train_test_split(X, y, train_size = 0.7)"
      ]
    },
    {
      "cell_type": "code",
      "execution_count": null,
      "metadata": {
        "id": "6e907965",
        "outputId": "dda88216-1cbc-417c-dd05-14bb63b7f896"
      },
      "outputs": [
        {
          "name": "stdout",
          "output_type": "stream",
          "text": [
            "Banyak data latih setelah dilakukan Train-Validation Split:  14000\n",
            "Banyak data uji setelah dilakukan Train-Validation Split:  6000\n"
          ]
        }
      ],
      "source": [
        "print(\"Banyak data latih setelah dilakukan Train-Validation Split: \", len(X_train))\n",
        "print(\"Banyak data uji setelah dilakukan Train-Validation Split: \", len(X_test))"
      ]
    },
    {
      "cell_type": "code",
      "execution_count": null,
      "metadata": {
        "scrolled": true,
        "id": "57b64a24",
        "outputId": "45a32f0c-5236-4060-e32b-8ed81cb8eb65"
      },
      "outputs": [
        {
          "name": "stdout",
          "output_type": "stream",
          "text": [
            "Akurasi model SVM untuk tiap fold:  [0.9945  0.99475 0.9925  0.9925  0.99525]\n",
            "Akurasi model SVM dengan 5-Fold Cross Validation:  0.9939\n"
          ]
        }
      ],
      "source": [
        "from sklearn.model_selection import cross_val_score\n",
        "from sklearn.svm import SVC\n",
        "\n",
        "model = SVC(kernel = 'linear', C = 1)\n",
        "scores = cross_val_score(model, X, y, cv = 5)\n",
        "print(\"Akurasi model SVM untuk tiap fold: \", scores)\n",
        "print(\"Akurasi model SVM dengan 5-Fold Cross Validation: \", scores.mean())"
      ]
    },
    {
      "cell_type": "code",
      "execution_count": null,
      "metadata": {
        "id": "dd618f68"
      },
      "outputs": [],
      "source": [
        "# b. Terapkanla klasifikasi dengan menggunakan Decision Tree dengan parameter\n",
        "# (max_dept = 5 dan min_samples_split=4)\n",
        "\n",
        "from sklearn.tree import DecisionTreeClassifier\n",
        "\n",
        "dt = DecisionTreeClassifier(\n",
        "    max_depth = 5,\n",
        "    min_samples_split = 4\n",
        ")"
      ]
    },
    {
      "cell_type": "code",
      "execution_count": null,
      "metadata": {
        "id": "f829b592",
        "outputId": "801ac54e-e282-4ab2-a8ac-f3696841ae9b"
      },
      "outputs": [
        {
          "name": "stdout",
          "output_type": "stream",
          "text": [
            "Test accuracy: 0.9998333333333334\n",
            "Test Precision: 1.0\n",
            "Test Recall: 0.9996619337390128\n"
          ]
        }
      ],
      "source": [
        "# c. Berapakah nilai accuracy, precision, dan recall yang anda peroleh.\n",
        "from sklearn import metrics\n",
        "\n",
        "dt.fit(X_train, y_train)\n",
        "y_pred = dt.predict(X_test)\n",
        "test_acc = metrics.accuracy_score(y_test, y_pred.round())\n",
        "test_prec = metrics.precision_score(y_test, y_pred.round())\n",
        "test_rec = metrics.recall_score(y_test, y_pred.round())\n",
        "\n",
        "print('Test accuracy:', test_acc)\n",
        "print(\"Test Precision:\",test_prec)\n",
        "print(\"Test Recall:\",test_rec)"
      ]
    },
    {
      "cell_type": "code",
      "execution_count": null,
      "metadata": {
        "id": "e34de9a6"
      },
      "outputs": [],
      "source": []
    }
  ]
}