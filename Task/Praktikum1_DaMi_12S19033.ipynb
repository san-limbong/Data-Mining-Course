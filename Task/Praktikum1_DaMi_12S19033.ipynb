{
 "cells": [
  {
   "cell_type": "markdown",
   "id": "23dd7112",
   "metadata": {},
   "source": [
    "Nama  : San Antonio Limbong\n",
    "\n",
    "NIM   : 12S19033\n",
    "\n",
    "Kelas : 14SI-2"
   ]
  },
  {
   "cell_type": "markdown",
   "id": "e220333d",
   "metadata": {},
   "source": [
    "# Latihan 3 | Menggunakan Python sebagai Kalkulator\n"
   ]
  },
  {
   "cell_type": "markdown",
   "id": "90affb47",
   "metadata": {},
   "source": [
    "Numbers"
   ]
  },
  {
   "cell_type": "code",
   "execution_count": 1,
   "id": "09ba2d43",
   "metadata": {},
   "outputs": [
    {
     "data": {
      "text/plain": [
       "8"
      ]
     },
     "execution_count": 1,
     "metadata": {},
     "output_type": "execute_result"
    }
   ],
   "source": [
    "2+6"
   ]
  },
  {
   "cell_type": "code",
   "execution_count": 2,
   "id": "13f0db13",
   "metadata": {},
   "outputs": [
    {
     "data": {
      "text/plain": [
       "123"
      ]
     },
     "execution_count": 2,
     "metadata": {},
     "output_type": "execute_result"
    }
   ],
   "source": [
    "153-5*6"
   ]
  },
  {
   "cell_type": "code",
   "execution_count": 3,
   "id": "4e040812",
   "metadata": {},
   "outputs": [
    {
     "data": {
      "text/plain": [
       "7.666666666666667"
      ]
     },
     "execution_count": 3,
     "metadata": {},
     "output_type": "execute_result"
    }
   ],
   "source": [
    "23/3"
   ]
  },
  {
   "cell_type": "code",
   "execution_count": 4,
   "id": "924e6496",
   "metadata": {},
   "outputs": [
    {
     "data": {
      "text/plain": [
       "12"
      ]
     },
     "execution_count": 4,
     "metadata": {},
     "output_type": "execute_result"
    }
   ],
   "source": [
    "37//3"
   ]
  },
  {
   "cell_type": "code",
   "execution_count": 5,
   "id": "d54a35d5",
   "metadata": {},
   "outputs": [
    {
     "data": {
      "text/plain": [
       "2"
      ]
     },
     "execution_count": 5,
     "metadata": {},
     "output_type": "execute_result"
    }
   ],
   "source": [
    "77%3"
   ]
  },
  {
   "cell_type": "code",
   "execution_count": 6,
   "id": "616b3e17",
   "metadata": {},
   "outputs": [
    {
     "data": {
      "text/plain": [
       "81"
      ]
     },
     "execution_count": 6,
     "metadata": {},
     "output_type": "execute_result"
    }
   ],
   "source": [
    "9**2"
   ]
  },
  {
   "cell_type": "code",
   "execution_count": 7,
   "id": "a7e01dfa",
   "metadata": {},
   "outputs": [
    {
     "data": {
      "text/plain": [
       "468"
      ]
     },
     "execution_count": 7,
     "metadata": {},
     "output_type": "execute_result"
    }
   ],
   "source": [
    "width = 13\n",
    "height = 4*9\n",
    "width * height"
   ]
  },
  {
   "cell_type": "code",
   "execution_count": 8,
   "id": "7d8e35bd",
   "metadata": {},
   "outputs": [
    {
     "ename": "NameError",
     "evalue": "name 'p' is not defined",
     "output_type": "error",
     "traceback": [
      "\u001b[1;31m---------------------------------------------------------------------------\u001b[0m",
      "\u001b[1;31mNameError\u001b[0m                                 Traceback (most recent call last)",
      "Input \u001b[1;32mIn [8]\u001b[0m, in \u001b[0;36m<cell line: 1>\u001b[1;34m()\u001b[0m\n\u001b[1;32m----> 1\u001b[0m \u001b[43mp\u001b[49m\n",
      "\u001b[1;31mNameError\u001b[0m: name 'p' is not defined"
     ]
    }
   ],
   "source": [
    "p"
   ]
  },
  {
   "cell_type": "code",
   "execution_count": 9,
   "id": "98138d0f",
   "metadata": {},
   "outputs": [
    {
     "data": {
      "text/plain": [
       "11.995222929936306"
      ]
     },
     "execution_count": 9,
     "metadata": {},
     "output_type": "execute_result"
    }
   ],
   "source": [
    "tax = 13.5/157\n",
    "price = 139.50\n",
    "price *tax"
   ]
  },
  {
   "cell_type": "code",
   "execution_count": 10,
   "id": "7c8d66b6",
   "metadata": {},
   "outputs": [
    {
     "data": {
      "text/plain": [
       "151.49522292993632"
      ]
     },
     "execution_count": 10,
     "metadata": {},
     "output_type": "execute_result"
    }
   ],
   "source": [
    "price + _"
   ]
  },
  {
   "cell_type": "code",
   "execution_count": 11,
   "id": "29b02128",
   "metadata": {},
   "outputs": [
    {
     "data": {
      "text/plain": [
       "151.5"
      ]
     },
     "execution_count": 11,
     "metadata": {},
     "output_type": "execute_result"
    }
   ],
   "source": [
    "round(_,2)"
   ]
  },
  {
   "cell_type": "markdown",
   "id": "75655481",
   "metadata": {},
   "source": [
    "Strings"
   ]
  },
  {
   "cell_type": "code",
   "execution_count": 12,
   "id": "dc0541c0",
   "metadata": {},
   "outputs": [
    {
     "data": {
      "text/plain": [
       "'download file'"
      ]
     },
     "execution_count": 12,
     "metadata": {},
     "output_type": "execute_result"
    }
   ],
   "source": [
    "'download file'"
   ]
  },
  {
   "cell_type": "code",
   "execution_count": 13,
   "id": "27e0dcf1",
   "metadata": {},
   "outputs": [
    {
     "data": {
      "text/plain": [
       "\"doesn't\""
      ]
     },
     "execution_count": 13,
     "metadata": {},
     "output_type": "execute_result"
    }
   ],
   "source": [
    "'doesn\\'t'"
   ]
  },
  {
   "cell_type": "code",
   "execution_count": 14,
   "id": "a8b915db",
   "metadata": {},
   "outputs": [
    {
     "data": {
      "text/plain": [
       "\"doesn't\""
      ]
     },
     "execution_count": 14,
     "metadata": {},
     "output_type": "execute_result"
    }
   ],
   "source": [
    "\"doesn't\""
   ]
  },
  {
   "cell_type": "code",
   "execution_count": 15,
   "id": "4574ed57",
   "metadata": {},
   "outputs": [
    {
     "data": {
      "text/plain": [
       "'\"Yes,\" they said.'"
      ]
     },
     "execution_count": 15,
     "metadata": {},
     "output_type": "execute_result"
    }
   ],
   "source": [
    "'\"Yes,\" they said.'"
   ]
  },
  {
   "cell_type": "code",
   "execution_count": 16,
   "id": "34f20c49",
   "metadata": {},
   "outputs": [
    {
     "data": {
      "text/plain": [
       "'\"Isn\\'t,\" He said'"
      ]
     },
     "execution_count": 16,
     "metadata": {},
     "output_type": "execute_result"
    }
   ],
   "source": [
    "'\"Isn\\'t,\" He said'"
   ]
  },
  {
   "cell_type": "code",
   "execution_count": 17,
   "id": "30082a27",
   "metadata": {},
   "outputs": [
    {
     "name": "stdout",
     "output_type": "stream",
     "text": [
      "\"Isn't,\" He said\n"
     ]
    }
   ],
   "source": [
    "print('\"Isn\\'t,\" He said')"
   ]
  },
  {
   "cell_type": "code",
   "execution_count": 18,
   "id": "f1f1bae4",
   "metadata": {},
   "outputs": [
    {
     "data": {
      "text/plain": [
       "'Baris Pertama. \\nBaris Kedua.'"
      ]
     },
     "execution_count": 18,
     "metadata": {},
     "output_type": "execute_result"
    }
   ],
   "source": [
    "s = 'Baris Pertama. \\nBaris Kedua.'\n",
    "s"
   ]
  },
  {
   "cell_type": "code",
   "execution_count": 19,
   "id": "dda0e8a4",
   "metadata": {},
   "outputs": [
    {
     "name": "stdout",
     "output_type": "stream",
     "text": [
      "Baris Pertama. \n",
      "Baris Kedua.\n"
     ]
    }
   ],
   "source": [
    "print(s)"
   ]
  },
  {
   "cell_type": "code",
   "execution_count": 20,
   "id": "9dee26ae",
   "metadata": {},
   "outputs": [
    {
     "name": "stdout",
     "output_type": "stream",
     "text": [
      " Usage: thingy [OPTIONS]\n",
      "    -h       Display this user message\n",
      "    -H       Hostname to connect to\n",
      "\n"
     ]
    }
   ],
   "source": [
    "print(\"\"\" \\\n",
    "Usage: thingy [OPTIONS]\n",
    "    -h       Display this user message\n",
    "    -H       Hostname to connect to\n",
    "\"\"\")"
   ]
  },
  {
   "cell_type": "code",
   "execution_count": 21,
   "id": "2e551bac",
   "metadata": {},
   "outputs": [
    {
     "data": {
      "text/plain": [
       "'boboboba'"
      ]
     },
     "execution_count": 21,
     "metadata": {},
     "output_type": "execute_result"
    }
   ],
   "source": [
    "# 3 times 'bo', followed by 'ba'\n",
    "3 * 'bo' + 'ba'"
   ]
  },
  {
   "cell_type": "code",
   "execution_count": 22,
   "id": "927d176d",
   "metadata": {},
   "outputs": [
    {
     "data": {
      "text/plain": [
       "'Bobha'"
      ]
     },
     "execution_count": 22,
     "metadata": {},
     "output_type": "execute_result"
    }
   ],
   "source": [
    "'Bo' \"bha\""
   ]
  },
  {
   "cell_type": "code",
   "execution_count": 23,
   "id": "d1942dcf",
   "metadata": {},
   "outputs": [
    {
     "data": {
      "text/plain": [
       "'Put several strings within parentheses to have them joined together'"
      ]
     },
     "execution_count": 23,
     "metadata": {},
     "output_type": "execute_result"
    }
   ],
   "source": [
    "text = ('Put several strings within parentheses'\n",
    "       ' to have them joined together')\n",
    "text"
   ]
  },
  {
   "cell_type": "code",
   "execution_count": 24,
   "id": "b10bf901",
   "metadata": {},
   "outputs": [
    {
     "ename": "SyntaxError",
     "evalue": "invalid syntax (707658214.py, line 2)",
     "output_type": "error",
     "traceback": [
      "\u001b[1;36m  Input \u001b[1;32mIn [24]\u001b[1;36m\u001b[0m\n\u001b[1;33m    prefix 'bha'\u001b[0m\n\u001b[1;37m           ^\u001b[0m\n\u001b[1;31mSyntaxError\u001b[0m\u001b[1;31m:\u001b[0m invalid syntax\n"
     ]
    }
   ],
   "source": [
    "prefix = 'Bo'\n",
    "prefix 'bha'"
   ]
  },
  {
   "cell_type": "code",
   "execution_count": 25,
   "id": "c09f3690",
   "metadata": {},
   "outputs": [
    {
     "ename": "SyntaxError",
     "evalue": "invalid syntax (942968756.py, line 1)",
     "output_type": "error",
     "traceback": [
      "\u001b[1;36m  Input \u001b[1;32mIn [25]\u001b[1;36m\u001b[0m\n\u001b[1;33m    ('bo' * 3) 'bha'\u001b[0m\n\u001b[1;37m               ^\u001b[0m\n\u001b[1;31mSyntaxError\u001b[0m\u001b[1;31m:\u001b[0m invalid syntax\n"
     ]
    }
   ],
   "source": [
    "('bo' * 3) 'bha'"
   ]
  },
  {
   "cell_type": "code",
   "execution_count": 26,
   "id": "93811015",
   "metadata": {},
   "outputs": [
    {
     "data": {
      "text/plain": [
       "'Bobha'"
      ]
     },
     "execution_count": 26,
     "metadata": {},
     "output_type": "execute_result"
    }
   ],
   "source": [
    "prefix = 'Bo'\n",
    "prefix + 'bha'"
   ]
  },
  {
   "cell_type": "code",
   "execution_count": 27,
   "id": "9b4a9886",
   "metadata": {},
   "outputs": [
    {
     "data": {
      "text/plain": [
       "'B'"
      ]
     },
     "execution_count": 27,
     "metadata": {},
     "output_type": "execute_result"
    }
   ],
   "source": [
    "word = 'Bobha'\n",
    "word[0]"
   ]
  },
  {
   "cell_type": "code",
   "execution_count": 28,
   "id": "cc6fe508",
   "metadata": {},
   "outputs": [
    {
     "data": {
      "text/plain": [
       "'b'"
      ]
     },
     "execution_count": 28,
     "metadata": {},
     "output_type": "execute_result"
    }
   ],
   "source": [
    "word[2]"
   ]
  },
  {
   "cell_type": "code",
   "execution_count": 29,
   "id": "b149e33d",
   "metadata": {},
   "outputs": [
    {
     "data": {
      "text/plain": [
       "'a'"
      ]
     },
     "execution_count": 29,
     "metadata": {},
     "output_type": "execute_result"
    }
   ],
   "source": [
    "word[-1]"
   ]
  },
  {
   "cell_type": "code",
   "execution_count": 30,
   "id": "baa83338",
   "metadata": {},
   "outputs": [
    {
     "data": {
      "text/plain": [
       "'h'"
      ]
     },
     "execution_count": 30,
     "metadata": {},
     "output_type": "execute_result"
    }
   ],
   "source": [
    "word[-2]"
   ]
  },
  {
   "cell_type": "code",
   "execution_count": 31,
   "id": "5e5cd0c4",
   "metadata": {},
   "outputs": [
    {
     "data": {
      "text/plain": [
       "'B'"
      ]
     },
     "execution_count": 31,
     "metadata": {},
     "output_type": "execute_result"
    }
   ],
   "source": [
    "word[-5]"
   ]
  },
  {
   "cell_type": "code",
   "execution_count": 32,
   "id": "04b102ec",
   "metadata": {},
   "outputs": [
    {
     "data": {
      "text/plain": [
       "'Bo'"
      ]
     },
     "execution_count": 32,
     "metadata": {},
     "output_type": "execute_result"
    }
   ],
   "source": [
    "word[0:2]"
   ]
  },
  {
   "cell_type": "code",
   "execution_count": 33,
   "id": "77ab0a2f",
   "metadata": {},
   "outputs": [
    {
     "data": {
      "text/plain": [
       "'bha'"
      ]
     },
     "execution_count": 33,
     "metadata": {},
     "output_type": "execute_result"
    }
   ],
   "source": [
    "word[2:5]"
   ]
  },
  {
   "cell_type": "code",
   "execution_count": 34,
   "id": "51a7962e",
   "metadata": {},
   "outputs": [
    {
     "data": {
      "text/plain": [
       "'Bobha'"
      ]
     },
     "execution_count": 34,
     "metadata": {},
     "output_type": "execute_result"
    }
   ],
   "source": [
    "word[:2] + word[2:]"
   ]
  },
  {
   "cell_type": "code",
   "execution_count": 35,
   "id": "b9906348",
   "metadata": {},
   "outputs": [
    {
     "data": {
      "text/plain": [
       "'Bobha'"
      ]
     },
     "execution_count": 35,
     "metadata": {},
     "output_type": "execute_result"
    }
   ],
   "source": [
    "word[:4] + word[4:]"
   ]
  },
  {
   "cell_type": "code",
   "execution_count": 36,
   "id": "7dacc56d",
   "metadata": {},
   "outputs": [
    {
     "ename": "TypeError",
     "evalue": "'str' object does not support item assignment",
     "output_type": "error",
     "traceback": [
      "\u001b[1;31m---------------------------------------------------------------------------\u001b[0m",
      "\u001b[1;31mTypeError\u001b[0m                                 Traceback (most recent call last)",
      "Input \u001b[1;32mIn [36]\u001b[0m, in \u001b[0;36m<cell line: 1>\u001b[1;34m()\u001b[0m\n\u001b[1;32m----> 1\u001b[0m word[\u001b[38;5;241m0\u001b[39m]\u001b[38;5;241m=\u001b[39m\u001b[38;5;124m'\u001b[39m\u001b[38;5;124m3\u001b[39m\u001b[38;5;124m'\u001b[39m\n",
      "\u001b[1;31mTypeError\u001b[0m: 'str' object does not support item assignment"
     ]
    }
   ],
   "source": [
    "word[0]='3'"
   ]
  },
  {
   "cell_type": "code",
   "execution_count": 37,
   "id": "ab14679a",
   "metadata": {},
   "outputs": [
    {
     "ename": "TypeError",
     "evalue": "'str' object does not support item assignment",
     "output_type": "error",
     "traceback": [
      "\u001b[1;31m---------------------------------------------------------------------------\u001b[0m",
      "\u001b[1;31mTypeError\u001b[0m                                 Traceback (most recent call last)",
      "Input \u001b[1;32mIn [37]\u001b[0m, in \u001b[0;36m<cell line: 1>\u001b[1;34m()\u001b[0m\n\u001b[1;32m----> 1\u001b[0m word[\u001b[38;5;241m2\u001b[39m:]\u001b[38;5;241m=\u001b[39m\u001b[38;5;124m'\u001b[39m\u001b[38;5;124mBo\u001b[39m\u001b[38;5;124m'\u001b[39m\n",
      "\u001b[1;31mTypeError\u001b[0m: 'str' object does not support item assignment"
     ]
    }
   ],
   "source": [
    "word[2:]='Bo'"
   ]
  },
  {
   "cell_type": "code",
   "execution_count": 38,
   "id": "d29e6f9b",
   "metadata": {},
   "outputs": [
    {
     "data": {
      "text/plain": [
       "'Robha'"
      ]
     },
     "execution_count": 38,
     "metadata": {},
     "output_type": "execute_result"
    }
   ],
   "source": [
    "'R' + word[1:]"
   ]
  },
  {
   "cell_type": "code",
   "execution_count": 39,
   "id": "c385b22f",
   "metadata": {},
   "outputs": [
    {
     "data": {
      "text/plain": [
       "'Boba'"
      ]
     },
     "execution_count": 39,
     "metadata": {},
     "output_type": "execute_result"
    }
   ],
   "source": [
    "word[:2] + 'ba'"
   ]
  },
  {
   "cell_type": "code",
   "execution_count": 40,
   "id": "a32bdaaf",
   "metadata": {},
   "outputs": [
    {
     "data": {
      "text/plain": [
       "12"
      ]
     },
     "execution_count": 40,
     "metadata": {},
     "output_type": "execute_result"
    }
   ],
   "source": [
    "s = 'superexcited'\n",
    "len(s)"
   ]
  },
  {
   "cell_type": "markdown",
   "id": "3d89ef71",
   "metadata": {},
   "source": [
    "Lists"
   ]
  },
  {
   "cell_type": "code",
   "execution_count": 41,
   "id": "090674c7",
   "metadata": {},
   "outputs": [
    {
     "data": {
      "text/plain": [
       "[1, 2, 3, 5, 8]"
      ]
     },
     "execution_count": 41,
     "metadata": {},
     "output_type": "execute_result"
    }
   ],
   "source": [
    "squares = [1, 2, 3, 5, 8]\n",
    "squares"
   ]
  },
  {
   "cell_type": "code",
   "execution_count": 42,
   "id": "be20563d",
   "metadata": {},
   "outputs": [
    {
     "data": {
      "text/plain": [
       "1"
      ]
     },
     "execution_count": 42,
     "metadata": {},
     "output_type": "execute_result"
    }
   ],
   "source": [
    "squares[0]"
   ]
  },
  {
   "cell_type": "code",
   "execution_count": 43,
   "id": "0c5079b6",
   "metadata": {},
   "outputs": [
    {
     "data": {
      "text/plain": [
       "8"
      ]
     },
     "execution_count": 43,
     "metadata": {},
     "output_type": "execute_result"
    }
   ],
   "source": [
    "squares[-1]"
   ]
  },
  {
   "cell_type": "code",
   "execution_count": 44,
   "id": "e814603f",
   "metadata": {},
   "outputs": [
    {
     "data": {
      "text/plain": [
       "[3, 5, 8]"
      ]
     },
     "execution_count": 44,
     "metadata": {},
     "output_type": "execute_result"
    }
   ],
   "source": [
    "squares[-3:]"
   ]
  },
  {
   "cell_type": "code",
   "execution_count": 45,
   "id": "27ece7c6",
   "metadata": {},
   "outputs": [
    {
     "data": {
      "text/plain": [
       "[1, 2, 3, 5, 8, 13, 21, 34, 55, 89]"
      ]
     },
     "execution_count": 45,
     "metadata": {},
     "output_type": "execute_result"
    }
   ],
   "source": [
    "squares + [13, 21, 34, 55, 89]"
   ]
  },
  {
   "cell_type": "code",
   "execution_count": 46,
   "id": "5f82cb9e",
   "metadata": {},
   "outputs": [
    {
     "data": {
      "text/plain": [
       "64"
      ]
     },
     "execution_count": 46,
     "metadata": {},
     "output_type": "execute_result"
    }
   ],
   "source": [
    "cubes = [1, 8, 27, 65, 125] #something's wrong here\n",
    "4**3 # the cube of 4 is 65, no 65"
   ]
  },
  {
   "cell_type": "code",
   "execution_count": 47,
   "id": "7b5ccefc",
   "metadata": {},
   "outputs": [
    {
     "data": {
      "text/plain": [
       "[1, 8, 35, 65, 125]"
      ]
     },
     "execution_count": 47,
     "metadata": {},
     "output_type": "execute_result"
    }
   ],
   "source": [
    "cubes[2] = 35\n",
    "cubes"
   ]
  },
  {
   "cell_type": "code",
   "execution_count": 48,
   "id": "0066ab65",
   "metadata": {},
   "outputs": [
    {
     "data": {
      "text/plain": [
       "[1, 8, 35, 65, 125, 216, 343]"
      ]
     },
     "execution_count": 48,
     "metadata": {},
     "output_type": "execute_result"
    }
   ],
   "source": [
    "cubes.append(216)\n",
    "cubes.append(7**3)\n",
    "cubes"
   ]
  },
  {
   "cell_type": "code",
   "execution_count": 49,
   "id": "a0277544",
   "metadata": {},
   "outputs": [
    {
     "data": {
      "text/plain": [
       "['a', 'b', 'c', 'd', 'e', 'f', 'g']"
      ]
     },
     "execution_count": 49,
     "metadata": {},
     "output_type": "execute_result"
    }
   ],
   "source": [
    "letters = ['a', 'b', 'c', 'd', 'e', 'f', 'g']\n",
    "letters"
   ]
  },
  {
   "cell_type": "code",
   "execution_count": 50,
   "id": "ebff9a06",
   "metadata": {},
   "outputs": [
    {
     "data": {
      "text/plain": [
       "['a', 'b', 'C', 'D', 'E', 'f', 'g']"
      ]
     },
     "execution_count": 50,
     "metadata": {},
     "output_type": "execute_result"
    }
   ],
   "source": [
    "# replace some values\n",
    "letters[2:5] = ['C', 'D', 'E']\n",
    "letters"
   ]
  },
  {
   "cell_type": "code",
   "execution_count": 51,
   "id": "c55b7060",
   "metadata": {},
   "outputs": [
    {
     "data": {
      "text/plain": [
       "['a', 'b', 'f', 'g']"
      ]
     },
     "execution_count": 51,
     "metadata": {},
     "output_type": "execute_result"
    }
   ],
   "source": [
    "# now remove them\n",
    "letters[2:5] = []\n",
    "letters"
   ]
  },
  {
   "cell_type": "code",
   "execution_count": 52,
   "id": "69a49e64",
   "metadata": {},
   "outputs": [
    {
     "data": {
      "text/plain": [
       "[]"
      ]
     },
     "execution_count": 52,
     "metadata": {},
     "output_type": "execute_result"
    }
   ],
   "source": [
    "# now remove them\n",
    "letters[:] = []\n",
    "letters"
   ]
  },
  {
   "cell_type": "code",
   "execution_count": 53,
   "id": "f2a25527",
   "metadata": {},
   "outputs": [
    {
     "data": {
      "text/plain": [
       "8"
      ]
     },
     "execution_count": 53,
     "metadata": {},
     "output_type": "execute_result"
    }
   ],
   "source": [
    "letters = ['a', 'b', 'c', 'd', 'e', 'f', 'g','h']\n",
    "len(letters)"
   ]
  },
  {
   "cell_type": "code",
   "execution_count": 54,
   "id": "137edca7",
   "metadata": {},
   "outputs": [
    {
     "data": {
      "text/plain": [
       "[['a', 'b', 'c'], [1, 2, 3]]"
      ]
     },
     "execution_count": 54,
     "metadata": {},
     "output_type": "execute_result"
    }
   ],
   "source": [
    "a = ['a', 'b', 'c']\n",
    "n = [1, 2, 3]\n",
    "x = [a, n]\n",
    "x"
   ]
  },
  {
   "cell_type": "code",
   "execution_count": 55,
   "id": "379f765a",
   "metadata": {},
   "outputs": [
    {
     "data": {
      "text/plain": [
       "['a', 'b', 'c']"
      ]
     },
     "execution_count": 55,
     "metadata": {},
     "output_type": "execute_result"
    }
   ],
   "source": [
    "x[0]"
   ]
  },
  {
   "cell_type": "code",
   "execution_count": 56,
   "id": "6c70eb72",
   "metadata": {},
   "outputs": [
    {
     "data": {
      "text/plain": [
       "'b'"
      ]
     },
     "execution_count": 56,
     "metadata": {},
     "output_type": "execute_result"
    }
   ],
   "source": [
    "x[0][1]"
   ]
  },
  {
   "cell_type": "markdown",
   "id": "ac8bcfe4",
   "metadata": {},
   "source": [
    "# Latihan 4 | Langkah pertama menuju pemrograman"
   ]
  },
  {
   "cell_type": "code",
   "execution_count": 57,
   "id": "fa67c790",
   "metadata": {},
   "outputs": [
    {
     "name": "stdout",
     "output_type": "stream",
     "text": [
      "5\n",
      "8\n",
      "13\n",
      "21\n",
      "34\n",
      "55\n",
      "89\n"
     ]
    }
   ],
   "source": [
    "# Fibonacci series\n",
    "# the sum of two elements defines the next\n",
    "a, b = 3, 5\n",
    "while b < 100:\n",
    "    print(b)\n",
    "    a,b = b, a+b"
   ]
  },
  {
   "cell_type": "code",
   "execution_count": 58,
   "id": "1fbb617b",
   "metadata": {},
   "outputs": [
    {
     "name": "stdout",
     "output_type": "stream",
     "text": [
      "The value of 1 is 15625\n"
     ]
    }
   ],
   "source": [
    "i = 125*125\n",
    "print('The value of 1 is', i)"
   ]
  },
  {
   "cell_type": "code",
   "execution_count": 62,
   "id": "682dbce0",
   "metadata": {},
   "outputs": [
    {
     "name": "stdout",
     "output_type": "stream",
     "text": [
      "6,11,17,28,45,73,118,191,309,500,809,"
     ]
    }
   ],
   "source": [
    "a, b = 5, 6\n",
    "while b< 1000:\n",
    "    print(b, end=',')\n",
    "    a, b = b, a+b"
   ]
  },
  {
   "cell_type": "markdown",
   "id": "c7ff3b0f",
   "metadata": {},
   "source": [
    "# Latihan 5 | More Control Flow Tools\n"
   ]
  },
  {
   "cell_type": "markdown",
   "id": "ba6b63c5",
   "metadata": {},
   "source": [
    "1. if Statements"
   ]
  },
  {
   "cell_type": "code",
   "execution_count": 63,
   "id": "f3e77058",
   "metadata": {},
   "outputs": [
    {
     "name": "stdout",
     "output_type": "stream",
     "text": [
      "Please enter an integer: 7\n"
     ]
    }
   ],
   "source": [
    "x = int(input(\"Please enter an integer: \"))"
   ]
  },
  {
   "cell_type": "code",
   "execution_count": 64,
   "id": "d234f38e",
   "metadata": {},
   "outputs": [
    {
     "name": "stdout",
     "output_type": "stream",
     "text": [
      "More\n"
     ]
    }
   ],
   "source": [
    "if x < 0:\n",
    "    x = 0\n",
    "    print('Negative changed to zero')\n",
    "elif x == 0:\n",
    "    print('Zero')\n",
    "elif x == 1:\n",
    "    print('Single')\n",
    "else:\n",
    "    print('More')"
   ]
  },
  {
   "cell_type": "markdown",
   "id": "f18a668a",
   "metadata": {},
   "source": [
    "2. for Statements\n"
   ]
  },
  {
   "cell_type": "code",
   "execution_count": 65,
   "id": "724d0eed",
   "metadata": {},
   "outputs": [],
   "source": [
    "# for Statements didalam Python akan mengiterasi item dari \n",
    "# beberapa urutan( dari sebuah list atau string)\n",
    "\n",
    "# Measure some strings:\n",
    "words = ['dog', 'door', 'defenestrated']"
   ]
  },
  {
   "cell_type": "code",
   "execution_count": 66,
   "id": "dbd895a1",
   "metadata": {},
   "outputs": [
    {
     "name": "stdout",
     "output_type": "stream",
     "text": [
      "dog 3\n",
      "door 4\n",
      "defenestrated 13\n"
     ]
    }
   ],
   "source": [
    "for w in words:\n",
    "    print(w, len(w))"
   ]
  },
  {
   "cell_type": "code",
   "execution_count": 67,
   "id": "4de32f6e",
   "metadata": {},
   "outputs": [],
   "source": [
    "for w in words[:]: #Loop over a slice copy of the entire list.\n",
    "    if len(w) > 6:\n",
    "        words.insert(0,w)"
   ]
  },
  {
   "cell_type": "code",
   "execution_count": 68,
   "id": "0207dcde",
   "metadata": {},
   "outputs": [
    {
     "data": {
      "text/plain": [
       "['defenestrated', 'dog', 'door', 'defenestrated']"
      ]
     },
     "execution_count": 68,
     "metadata": {},
     "output_type": "execute_result"
    }
   ],
   "source": [
    "words"
   ]
  },
  {
   "cell_type": "markdown",
   "id": "3fb1d687",
   "metadata": {},
   "source": [
    "3. The range() Function"
   ]
  },
  {
   "cell_type": "code",
   "execution_count": 69,
   "id": "8ca32934",
   "metadata": {},
   "outputs": [
    {
     "name": "stdout",
     "output_type": "stream",
     "text": [
      "0\n",
      "1\n",
      "2\n",
      "3\n",
      "4\n",
      "5\n",
      "6\n",
      "7\n",
      "8\n",
      "9\n"
     ]
    }
   ],
   "source": [
    "for i in range(10):\n",
    "    print(i)"
   ]
  },
  {
   "cell_type": "code",
   "execution_count": 70,
   "id": "bb45ae88",
   "metadata": {},
   "outputs": [
    {
     "name": "stdout",
     "output_type": "stream",
     "text": [
      "0 Maya\n",
      "1 has\n",
      "2 a\n",
      "3 little\n",
      "4 cat\n"
     ]
    }
   ],
   "source": [
    "a = ['Maya', 'has', 'a', 'little', 'cat']\n",
    "for i in range(len(a)):\n",
    "    print(i, a[i])"
   ]
  },
  {
   "cell_type": "markdown",
   "id": "869c8e34",
   "metadata": {},
   "source": [
    "# Latihan 6 | Function\n"
   ]
  },
  {
   "cell_type": "markdown",
   "id": "916e2a57",
   "metadata": {},
   "source": [
    "1. Fungsi tanpa parameter"
   ]
  },
  {
   "cell_type": "code",
   "execution_count": 71,
   "id": "d62a1596",
   "metadata": {},
   "outputs": [
    {
     "name": "stdout",
     "output_type": "stream",
     "text": [
      "5\n"
     ]
    }
   ],
   "source": [
    "a = 2\n",
    "b = 3\n",
    "\n",
    "def jumlah():\n",
    "    print (a+b)\n",
    "jumlah()"
   ]
  },
  {
   "cell_type": "markdown",
   "id": "04bdf305",
   "metadata": {},
   "source": [
    "2. Fungsi dengan parameter\n",
    "\n",
    "a) Fungsi dengan parameter biasa"
   ]
  },
  {
   "cell_type": "code",
   "execution_count": 72,
   "id": "1fb15ac3",
   "metadata": {},
   "outputs": [
    {
     "name": "stdout",
     "output_type": "stream",
     "text": [
      "4\n"
     ]
    }
   ],
   "source": [
    "def kurang(a,b):\n",
    "    print(a-b)\n",
    "kurang(7,3)"
   ]
  },
  {
   "cell_type": "markdown",
   "id": "bcaa78ed",
   "metadata": {},
   "source": [
    "b) Fungsi yang dapat dipanggil dengan jumlah parameter berbeda"
   ]
  },
  {
   "cell_type": "code",
   "execution_count": 73,
   "id": "e27d0422",
   "metadata": {},
   "outputs": [
    {
     "name": "stdout",
     "output_type": "stream",
     "text": [
      "3\n",
      "6\n",
      "24\n"
     ]
    }
   ],
   "source": [
    "# Dengan menambahkan tanda bintang(*) di depan parameter, maka parameter tersebut\n",
    "# akan berperansebagai objek tuple.\n",
    "\n",
    "def kali(*nilai):\n",
    "    hasilPerkalian = 1\n",
    "    for i in nilai:\n",
    "        hasilPerkalian*=i\n",
    "    return hasilPerkalian\n",
    "\n",
    "print (kali(3))\n",
    "print (kali(3,2))\n",
    "print (kali(3,2,4))"
   ]
  },
  {
   "cell_type": "code",
   "execution_count": 74,
   "id": "8ffe340c",
   "metadata": {},
   "outputs": [
    {
     "data": {
      "text/plain": [
       "1.5"
      ]
     },
     "execution_count": 74,
     "metadata": {},
     "output_type": "execute_result"
    }
   ],
   "source": [
    "def bagi (a:float, b:float)->float:\n",
    "    return a/b\n",
    "bagi(3,2)"
   ]
  },
  {
   "cell_type": "markdown",
   "id": "19800755",
   "metadata": {},
   "source": [
    "# Latihan 7 | Class"
   ]
  },
  {
   "cell_type": "code",
   "execution_count": 75,
   "id": "76f20bdf",
   "metadata": {},
   "outputs": [
    {
     "name": "stdout",
     "output_type": "stream",
     "text": [
      "canine\n",
      "canine\n",
      "Bruno\n",
      "Buddy\n",
      "['jump']\n",
      "['run']\n"
     ]
    }
   ],
   "source": [
    "class Dog:\n",
    "    kind = 'canine'\n",
    "    def __init__(self, name): #constructor\n",
    "        self.name = name\n",
    "        self.tricks =[]\n",
    "        \n",
    "    def add_trick(self, trick):\n",
    "        self.tricks.append(trick)\n",
    "        \n",
    "dog1 = Dog('Bruno')\n",
    "dog2 = Dog('Buddy')\n",
    "dog1.add_trick('jump')\n",
    "dog2.add_trick('run')\n",
    "\n",
    "print(dog1.kind)\n",
    "print(dog2.kind)\n",
    "print(dog1.name)\n",
    "print(dog2.name)\n",
    "print(dog1.tricks)\n",
    "print(dog2.tricks)"
   ]
  },
  {
   "cell_type": "code",
   "execution_count": null,
   "id": "55cea937",
   "metadata": {},
   "outputs": [],
   "source": []
  }
 ],
 "metadata": {
  "kernelspec": {
   "display_name": "Python 3 (ipykernel)",
   "language": "python",
   "name": "python3"
  },
  "language_info": {
   "codemirror_mode": {
    "name": "ipython",
    "version": 3
   },
   "file_extension": ".py",
   "mimetype": "text/x-python",
   "name": "python",
   "nbconvert_exporter": "python",
   "pygments_lexer": "ipython3",
   "version": "3.9.12"
  }
 },
 "nbformat": 4,
 "nbformat_minor": 5
}
